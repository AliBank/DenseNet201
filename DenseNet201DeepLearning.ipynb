{
  "nbformat": 4,
  "nbformat_minor": 0,
  "metadata": {
    "colab": {
      "provenance": [],
      "machine_shape": "hm",
      "authorship_tag": "ABX9TyNpHKFkKJzjxucvonDdtBXc",
      "include_colab_link": true
    },
    "kernelspec": {
      "name": "python3",
      "display_name": "Python 3"
    },
    "language_info": {
      "name": "python"
    },
    "accelerator": "TPU",
    "gpuClass": "standard"
  },
  "cells": [
    {
      "cell_type": "markdown",
      "metadata": {
        "id": "view-in-github",
        "colab_type": "text"
      },
      "source": [
        "<a href=\"https://colab.research.google.com/github/AliBank/DenseNet201/blob/main/DenseNet201DeepLearning.ipynb\" target=\"_parent\"><img src=\"https://colab.research.google.com/assets/colab-badge.svg\" alt=\"Open In Colab\"/></a>"
      ]
    },
    {
      "cell_type": "code",
      "execution_count": 1,
      "metadata": {
        "colab": {
          "base_uri": "https://localhost:8080/"
        },
        "id": "a1rOKkAqS1PN",
        "outputId": "4491402a-d66c-43e8-8171-d692597f727f"
      },
      "outputs": [
        {
          "output_type": "stream",
          "name": "stdout",
          "text": [
            "Mounted at /content/drive\n"
          ]
        }
      ],
      "source": [
        "from google.colab import drive\n",
        "drive.mount('/content/drive')"
      ]
    },
    {
      "cell_type": "code",
      "source": [
        "!pip install -q keras\n",
        "!pip install h5py pyyaml"
      ],
      "metadata": {
        "id": "QFghpqHcTa4w",
        "colab": {
          "base_uri": "https://localhost:8080/"
        },
        "outputId": "133fedf4-f385-4ce4-c55d-4bb6cfa07e3d"
      },
      "execution_count": 2,
      "outputs": [
        {
          "output_type": "stream",
          "name": "stdout",
          "text": [
            "Looking in indexes: https://pypi.org/simple, https://us-python.pkg.dev/colab-wheels/public/simple/\n",
            "Requirement already satisfied: h5py in /usr/local/lib/python3.8/dist-packages (3.1.0)\n",
            "Requirement already satisfied: pyyaml in /usr/local/lib/python3.8/dist-packages (6.0)\n",
            "Requirement already satisfied: numpy>=1.17.5 in /usr/local/lib/python3.8/dist-packages (from h5py) (1.21.6)\n"
          ]
        }
      ]
    },
    {
      "cell_type": "code",
      "source": [
        "from tensorflow.keras.applications import DenseNet201 \n",
        "from __future__ import absolute_import, division, print_function\n",
        "import os\n",
        "import tensorflow as tf\n",
        "from tensorflow import keras\n",
        "from keras.preprocessing.image import ImageDataGenerator\n",
        "from tensorflow.keras import layers\n",
        "from tensorflow.keras import Model\n",
        "from keras.layers import Flatten\n",
        "from tensorflow.keras.layers import Conv2D, AveragePooling2D, GlobalAveragePooling2D\n",
        "from keras.optimizers import RMSprop\n",
        "from tensorflow.keras.utils import img_to_array\n",
        "from tensorflow.keras.utils import load_img\n",
        "from tensorflow.keras.models import Sequential\n",
        "from keras.layers import Dense\n",
        "import matplotlib.pyplot as plt\n",
        "from glob import glob"
      ],
      "metadata": {
        "id": "RjlVP_LhTlD2"
      },
      "execution_count": 3,
      "outputs": []
    },
    {
      "cell_type": "code",
      "source": [
        "train_path=\"/content/drive/MyDrive/BaklagilDataSet/DB3_Histeq/fold1/train/images/\"\n",
        "test_path=\"/content/drive/MyDrive/BaklagilDataSet/DB3_Histeq/fold1/test/images/\""
      ],
      "metadata": {
        "id": "4fibVt5NUO2Z"
      },
      "execution_count": 4,
      "outputs": []
    },
    {
      "cell_type": "code",
      "source": [
        "numberOfClass=len(glob(train_path+\"/*\"))"
      ],
      "metadata": {
        "id": "mh2yijWcU0-t"
      },
      "execution_count": 5,
      "outputs": []
    },
    {
      "cell_type": "code",
      "source": [
        "print(numberOfClass)"
      ],
      "metadata": {
        "colab": {
          "base_uri": "https://localhost:8080/"
        },
        "id": "1zvJV7zTU3hd",
        "outputId": "47c8a3ad-7a69-4366-9656-5e4e6dc8276d"
      },
      "execution_count": 6,
      "outputs": [
        {
          "output_type": "stream",
          "name": "stdout",
          "text": [
            "30\n"
          ]
        }
      ]
    },
    {
      "cell_type": "code",
      "source": [
        "dens= DenseNet201(include_top=False, weights='imagenet',input_shape=(224,224,3))"
      ],
      "metadata": {
        "id": "e3SL1YpnVDGS",
        "colab": {
          "base_uri": "https://localhost:8080/"
        },
        "outputId": "2ae2c856-7862-4a58-996c-930cc326e416"
      },
      "execution_count": 7,
      "outputs": [
        {
          "output_type": "stream",
          "name": "stdout",
          "text": [
            "Downloading data from https://storage.googleapis.com/tensorflow/keras-applications/densenet/densenet201_weights_tf_dim_ordering_tf_kernels_notop.h5\n",
            "74836368/74836368 [==============================] - 1s 0us/step\n"
          ]
        }
      ]
    },
    {
      "cell_type": "code",
      "source": [
        "print(dens.summary())"
      ],
      "metadata": {
        "id": "BUKBWte5VPBT"
      },
      "execution_count": null,
      "outputs": []
    },
    {
      "cell_type": "code",
      "source": [
        "print(type(dens))"
      ],
      "metadata": {
        "colab": {
          "base_uri": "https://localhost:8080/"
        },
        "id": "RtK4FxBAVrt5",
        "outputId": "cbcfd032-8bc5-4e75-dca9-096d08f317ef"
      },
      "execution_count": 9,
      "outputs": [
        {
          "output_type": "stream",
          "name": "stdout",
          "text": [
            "<class 'keras.engine.functional.Functional'>\n"
          ]
        }
      ]
    },
    {
      "cell_type": "code",
      "source": [
        "dens_layer_list= dens.layers\n",
        "print(dens_layer_list)"
      ],
      "metadata": {
        "colab": {
          "base_uri": "https://localhost:8080/"
        },
        "id": "_OwmbbIFVtlZ",
        "outputId": "ed7fd903-ec00-47ea-9131-9c48c9a796b7"
      },
      "execution_count": 10,
      "outputs": [
        {
          "output_type": "stream",
          "name": "stdout",
          "text": [
            "[<keras.engine.input_layer.InputLayer object at 0x7f2fa9d6c610>, <keras.layers.reshaping.zero_padding2d.ZeroPadding2D object at 0x7f2fa9d6cdf0>, <keras.layers.convolutional.conv2d.Conv2D object at 0x7f30c6cfc250>, <keras.layers.normalization.batch_normalization.BatchNormalization object at 0x7f30c6cd9dc0>, <keras.layers.core.activation.Activation object at 0x7f30c6cfc070>, <keras.layers.reshaping.zero_padding2d.ZeroPadding2D object at 0x7f2fa94d1fa0>, <keras.layers.pooling.max_pooling2d.MaxPooling2D object at 0x7f2f7f6e1d90>, <keras.layers.normalization.batch_normalization.BatchNormalization object at 0x7f2f7f6f59a0>, <keras.layers.core.activation.Activation object at 0x7f2f7f6f5cd0>, <keras.layers.convolutional.conv2d.Conv2D object at 0x7f2f7f701d60>, <keras.layers.normalization.batch_normalization.BatchNormalization object at 0x7f2f7f708160>, <keras.layers.core.activation.Activation object at 0x7f2f7f708910>, <keras.layers.convolutional.conv2d.Conv2D object at 0x7f2f7f6e1a90>, <keras.layers.merging.concatenate.Concatenate object at 0x7f2f7f701130>, <keras.layers.normalization.batch_normalization.BatchNormalization object at 0x7f2f7f713f40>, <keras.layers.core.activation.Activation object at 0x7f2f7f708340>, <keras.layers.convolutional.conv2d.Conv2D object at 0x7f2f7f701eb0>, <keras.layers.normalization.batch_normalization.BatchNormalization object at 0x7f2f7f6a4fa0>, <keras.layers.core.activation.Activation object at 0x7f2f7f7135b0>, <keras.layers.convolutional.conv2d.Conv2D object at 0x7f2f7f71b640>, <keras.layers.merging.concatenate.Concatenate object at 0x7f2f7f708e50>, <keras.layers.normalization.batch_normalization.BatchNormalization object at 0x7f30c6cd9160>, <keras.layers.core.activation.Activation object at 0x7f2fa94d1d00>, <keras.layers.convolutional.conv2d.Conv2D object at 0x7f2f7f6a4760>, <keras.layers.normalization.batch_normalization.BatchNormalization object at 0x7f2f7f71b6a0>, <keras.layers.core.activation.Activation object at 0x7f2f7f713820>, <keras.layers.convolutional.conv2d.Conv2D object at 0x7f2f7f6b0760>, <keras.layers.merging.concatenate.Concatenate object at 0x7f2f7f6f5e20>, <keras.layers.normalization.batch_normalization.BatchNormalization object at 0x7f2f7f705d00>, <keras.layers.core.activation.Activation object at 0x7f2f7f6f5160>, <keras.layers.convolutional.conv2d.Conv2D object at 0x7f2f7f705e80>, <keras.layers.normalization.batch_normalization.BatchNormalization object at 0x7f2f7f705e20>, <keras.layers.core.activation.Activation object at 0x7f2f7f6cc520>, <keras.layers.convolutional.conv2d.Conv2D object at 0x7f2f7f6ccbb0>, <keras.layers.merging.concatenate.Concatenate object at 0x7f2f7f6c4640>, <keras.layers.normalization.batch_normalization.BatchNormalization object at 0x7f2f7f6d3610>, <keras.layers.core.activation.Activation object at 0x7f2f7f6da280>, <keras.layers.convolutional.conv2d.Conv2D object at 0x7f2f7f6da820>, <keras.layers.normalization.batch_normalization.BatchNormalization object at 0x7f2f7f6cccd0>, <keras.layers.core.activation.Activation object at 0x7f2f7f661b80>, <keras.layers.convolutional.conv2d.Conv2D object at 0x7f2f7f66ae20>, <keras.layers.merging.concatenate.Concatenate object at 0x7f2f7f6d37f0>, <keras.layers.normalization.batch_normalization.BatchNormalization object at 0x7f2f7f675580>, <keras.layers.core.activation.Activation object at 0x7f2f7f6d3c40>, <keras.layers.convolutional.conv2d.Conv2D object at 0x7f2f7f675850>, <keras.layers.normalization.batch_normalization.BatchNormalization object at 0x7f2f7f675940>, <keras.layers.core.activation.Activation object at 0x7f2f7f6831f0>, <keras.layers.convolutional.conv2d.Conv2D object at 0x7f2f7f66a310>, <keras.layers.merging.concatenate.Concatenate object at 0x7f2f7f683790>, <keras.layers.normalization.batch_normalization.BatchNormalization object at 0x7f2f7f6f5e80>, <keras.layers.core.activation.Activation object at 0x7f2f7f698a60>, <keras.layers.convolutional.conv2d.Conv2D object at 0x7f2f7f6985e0>, <keras.layers.pooling.average_pooling2d.AveragePooling2D object at 0x7f2f7f68f1c0>, <keras.layers.normalization.batch_normalization.BatchNormalization object at 0x7f2f7f6981c0>, <keras.layers.core.activation.Activation object at 0x7f2f7f622be0>, <keras.layers.convolutional.conv2d.Conv2D object at 0x7f2f7f628940>, <keras.layers.normalization.batch_normalization.BatchNormalization object at 0x7f2f7f628b20>, <keras.layers.core.activation.Activation object at 0x7f2f7f6302b0>, <keras.layers.convolutional.conv2d.Conv2D object at 0x7f2f7f637e80>, <keras.layers.merging.concatenate.Concatenate object at 0x7f2f7f68f220>, <keras.layers.normalization.batch_normalization.BatchNormalization object at 0x7f2f7f642640>, <keras.layers.core.activation.Activation object at 0x7f2f7f6428b0>, <keras.layers.convolutional.conv2d.Conv2D object at 0x7f2f7f642be0>, <keras.layers.normalization.batch_normalization.BatchNormalization object at 0x7f2f7f642d30>, <keras.layers.core.activation.Activation object at 0x7f2f7f67a670>, <keras.layers.convolutional.conv2d.Conv2D object at 0x7f2f7f698c70>, <keras.layers.merging.concatenate.Concatenate object at 0x7f2f7f683490>, <keras.layers.normalization.batch_normalization.BatchNormalization object at 0x7f2f7f675ac0>, <keras.layers.core.activation.Activation object at 0x7f2f7f6cc6a0>, <keras.layers.convolutional.conv2d.Conv2D object at 0x7f2f7f661820>, <keras.layers.normalization.batch_normalization.BatchNormalization object at 0x7f2f7f6bfd00>, <keras.layers.core.activation.Activation object at 0x7f2f7f6502b0>, <keras.layers.convolutional.conv2d.Conv2D object at 0x7f2f7f650220>, <keras.layers.merging.concatenate.Concatenate object at 0x7f2f7f7051c0>, <keras.layers.normalization.batch_normalization.BatchNormalization object at 0x7f2f7f652520>, <keras.layers.core.activation.Activation object at 0x7f2f7f655580>, <keras.layers.convolutional.conv2d.Conv2D object at 0x7f2f7f6550d0>, <keras.layers.normalization.batch_normalization.BatchNormalization object at 0x7f2f7f6b0550>, <keras.layers.core.activation.Activation object at 0x7f2f7f65d430>, <keras.layers.convolutional.conv2d.Conv2D object at 0x7f2f7f65d8b0>, <keras.layers.merging.concatenate.Concatenate object at 0x7f2f7f65da00>, <keras.layers.normalization.batch_normalization.BatchNormalization object at 0x7f2f7f5e3d30>, <keras.layers.core.activation.Activation object at 0x7f2f7f5eaaf0>, <keras.layers.convolutional.conv2d.Conv2D object at 0x7f2f7f5ea880>, <keras.layers.normalization.batch_normalization.BatchNormalization object at 0x7f2f7f5ea580>, <keras.layers.core.activation.Activation object at 0x7f2f7f5f8700>, <keras.layers.convolutional.conv2d.Conv2D object at 0x7f2f7f5f8e50>, <keras.layers.merging.concatenate.Concatenate object at 0x7f2f7f5f8eb0>, <keras.layers.normalization.batch_normalization.BatchNormalization object at 0x7f2f7f607070>, <keras.layers.core.activation.Activation object at 0x7f2f7f6072e0>, <keras.layers.convolutional.conv2d.Conv2D object at 0x7f2f7f607df0>, <keras.layers.normalization.batch_normalization.BatchNormalization object at 0x7f2f7f607760>, <keras.layers.core.activation.Activation object at 0x7f2f7f61a370>, <keras.layers.convolutional.conv2d.Conv2D object at 0x7f2f7f61a310>, <keras.layers.merging.concatenate.Concatenate object at 0x7f2f7f615220>, <keras.layers.normalization.batch_normalization.BatchNormalization object at 0x7f2f7f5a15e0>, <keras.layers.core.activation.Activation object at 0x7f2f7f5aa640>, <keras.layers.convolutional.conv2d.Conv2D object at 0x7f2f7f5aa190>, <keras.layers.normalization.batch_normalization.BatchNormalization object at 0x7f2f7f615160>, <keras.layers.core.activation.Activation object at 0x7f2f7f5b70a0>, <keras.layers.convolutional.conv2d.Conv2D object at 0x7f2f7f5b79a0>, <keras.layers.merging.concatenate.Concatenate object at 0x7f2f7f5b7e80>, <keras.layers.normalization.batch_normalization.BatchNormalization object at 0x7f2f7f5c0df0>, <keras.layers.core.activation.Activation object at 0x7f2f7f5c8bb0>, <keras.layers.convolutional.conv2d.Conv2D object at 0x7f2f7f5c8100>, <keras.layers.normalization.batch_normalization.BatchNormalization object at 0x7f2f7f5c8640>, <keras.layers.core.activation.Activation object at 0x7f2f7f5fea60>, <keras.layers.convolutional.conv2d.Conv2D object at 0x7f2f7f5f86d0>, <keras.layers.merging.concatenate.Concatenate object at 0x7f2f7f5f8a30>, <keras.layers.normalization.batch_normalization.BatchNormalization object at 0x7f2f7f5f1310>, <keras.layers.core.activation.Activation object at 0x7f2f7f659340>, <keras.layers.convolutional.conv2d.Conv2D object at 0x7f2f7f65d790>, <keras.layers.normalization.batch_normalization.BatchNormalization object at 0x7f2f7f650430>, <keras.layers.core.activation.Activation object at 0x7f2f7f652070>, <keras.layers.convolutional.conv2d.Conv2D object at 0x7f2f7f5d0340>, <keras.layers.merging.concatenate.Concatenate object at 0x7f2f7f6b51f0>, <keras.layers.normalization.batch_normalization.BatchNormalization object at 0x7f2f7f5d3640>, <keras.layers.core.activation.Activation object at 0x7f2f7f5d56a0>, <keras.layers.convolutional.conv2d.Conv2D object at 0x7f2f7f5d5f40>, <keras.layers.normalization.batch_normalization.BatchNormalization object at 0x7f2f7f5d51f0>, <keras.layers.core.activation.Activation object at 0x7f2f7f5d0dc0>, <keras.layers.convolutional.conv2d.Conv2D object at 0x7f2f7f5dcb50>, <keras.layers.merging.concatenate.Concatenate object at 0x7f2f7f5dc670>, <keras.layers.normalization.batch_normalization.BatchNormalization object at 0x7f306080caf0>, <keras.layers.core.activation.Activation object at 0x7f2f7f5e0f10>, <keras.layers.convolutional.conv2d.Conv2D object at 0x7f2f7f567220>, <keras.layers.normalization.batch_normalization.BatchNormalization object at 0x7f2f7f577880>, <keras.layers.core.activation.Activation object at 0x7f2f7f5778b0>, <keras.layers.convolutional.conv2d.Conv2D object at 0x7f2f7f581c10>, <keras.layers.merging.concatenate.Concatenate object at 0x7f2fa94d1a30>, <keras.layers.normalization.batch_normalization.BatchNormalization object at 0x7f2f7f58a4f0>, <keras.layers.core.activation.Activation object at 0x7f2f7f58ab50>, <keras.layers.convolutional.conv2d.Conv2D object at 0x7f2f7f597cd0>, <keras.layers.normalization.batch_normalization.BatchNormalization object at 0x7f2f7f596f70>, <keras.layers.core.activation.Activation object at 0x7f2f7f5969d0>, <keras.layers.convolutional.conv2d.Conv2D object at 0x7f2f7f581fd0>, <keras.layers.merging.concatenate.Concatenate object at 0x7f2f7f5976d0>, <keras.layers.normalization.batch_normalization.BatchNormalization object at 0x7f2f7f628280>, <keras.layers.core.activation.Activation object at 0x7f2f7f59c910>, <keras.layers.convolutional.conv2d.Conv2D object at 0x7f2f7f567d60>, <keras.layers.pooling.average_pooling2d.AveragePooling2D object at 0x7f2f7f597490>, <keras.layers.normalization.batch_normalization.BatchNormalization object at 0x7f2f7f52f9d0>, <keras.layers.core.activation.Activation object at 0x7f2f7f52fcd0>, <keras.layers.convolutional.conv2d.Conv2D object at 0x7f2f7f571550>, <keras.layers.normalization.batch_normalization.BatchNormalization object at 0x7f2f7f53ca00>, <keras.layers.core.activation.Activation object at 0x7f2f7f52c8e0>, <keras.layers.convolutional.conv2d.Conv2D object at 0x7f2f7f538e50>, <keras.layers.merging.concatenate.Concatenate object at 0x7f2f7f538c40>, <keras.layers.normalization.batch_normalization.BatchNormalization object at 0x7f2f7f567b50>, <keras.layers.core.activation.Activation object at 0x7f2f7f5673a0>, <keras.layers.convolutional.conv2d.Conv2D object at 0x7f2f7f521070>, <keras.layers.normalization.batch_normalization.BatchNormalization object at 0x7f2f7f538190>, <keras.layers.core.activation.Activation object at 0x7f2f7f5c0fa0>, <keras.layers.convolutional.conv2d.Conv2D object at 0x7f2f7f5dc520>, <keras.layers.merging.concatenate.Concatenate object at 0x7f2f7f649d00>, <keras.layers.normalization.batch_normalization.BatchNormalization object at 0x7f2f7f521640>, <keras.layers.core.activation.Activation object at 0x7f2f7f5e0a30>, <keras.layers.convolutional.conv2d.Conv2D object at 0x7f2f7f545760>, <keras.layers.normalization.batch_normalization.BatchNormalization object at 0x7f2f7f60c730>, <keras.layers.core.activation.Activation object at 0x7f2f7f545d00>, <keras.layers.convolutional.conv2d.Conv2D object at 0x7f2f7f5dc4c0>, <keras.layers.merging.concatenate.Concatenate object at 0x7f2f7f5dca90>, <keras.layers.normalization.batch_normalization.BatchNormalization object at 0x7f2f7f6558b0>, <keras.layers.core.activation.Activation object at 0x7f2f7f5544c0>, <keras.layers.convolutional.conv2d.Conv2D object at 0x7f2f7f554970>, <keras.layers.normalization.batch_normalization.BatchNormalization object at 0x7f2f7f5d31c0>, <keras.layers.core.activation.Activation object at 0x7f2f7f4e8820>, <keras.layers.convolutional.conv2d.Conv2D object at 0x7f2f7f4e8940>, <keras.layers.merging.concatenate.Concatenate object at 0x7f2f7f551f40>, <keras.layers.normalization.batch_normalization.BatchNormalization object at 0x7f2f7f54ad60>, <keras.layers.core.activation.Activation object at 0x7f2f7f554b50>, <keras.layers.convolutional.conv2d.Conv2D object at 0x7f2f7f54c820>, <keras.layers.normalization.batch_normalization.BatchNormalization object at 0x7f2f7f554a60>, <keras.layers.core.activation.Activation object at 0x7f2f7f554be0>, <keras.layers.convolutional.conv2d.Conv2D object at 0x7f2f7f502ee0>, <keras.layers.merging.concatenate.Concatenate object at 0x7f2f7f554b80>, <keras.layers.normalization.batch_normalization.BatchNormalization object at 0x7f2f7f560a00>, <keras.layers.core.activation.Activation object at 0x7f2f7f509310>, <keras.layers.convolutional.conv2d.Conv2D object at 0x7f2f7f509ca0>, <keras.layers.normalization.batch_normalization.BatchNormalization object at 0x7f2f7f4f9910>, <keras.layers.core.activation.Activation object at 0x7f2f7f4ef3d0>, <keras.layers.convolutional.conv2d.Conv2D object at 0x7f2f7f51e1c0>, <keras.layers.merging.concatenate.Concatenate object at 0x7f2f7f4f9790>, <keras.layers.normalization.batch_normalization.BatchNormalization object at 0x7f2f7f4f9970>, <keras.layers.core.activation.Activation object at 0x7f2f7f4ad6a0>, <keras.layers.convolutional.conv2d.Conv2D object at 0x7f2f7f4ada90>, <keras.layers.normalization.batch_normalization.BatchNormalization object at 0x7f2f7f509a00>, <keras.layers.core.activation.Activation object at 0x7f2f7f4be940>, <keras.layers.convolutional.conv2d.Conv2D object at 0x7f2f7f4bea60>, <keras.layers.merging.concatenate.Concatenate object at 0x7f2f7f4be310>, <keras.layers.normalization.batch_normalization.BatchNormalization object at 0x7f2f7f4bebe0>, <keras.layers.core.activation.Activation object at 0x7f2f7f515460>, <keras.layers.convolutional.conv2d.Conv2D object at 0x7f2f7f515f40>, <keras.layers.normalization.batch_normalization.BatchNormalization object at 0x7f2f7f5093d0>, <keras.layers.core.activation.Activation object at 0x7f2f7f502250>, <keras.layers.convolutional.conv2d.Conv2D object at 0x7f2f7f4e82b0>, <keras.layers.merging.concatenate.Concatenate object at 0x7f2f7f4b6250>, <keras.layers.normalization.batch_normalization.BatchNormalization object at 0x7f2f7f4b6b20>, <keras.layers.core.activation.Activation object at 0x7f2f7f4a5ee0>, <keras.layers.convolutional.conv2d.Conv2D object at 0x7f2f7f54c910>, <keras.layers.normalization.batch_normalization.BatchNormalization object at 0x7f2f7f54cbb0>, <keras.layers.core.activation.Activation object at 0x7f2f7f5b2850>, <keras.layers.convolutional.conv2d.Conv2D object at 0x7f2f7f4ad850>, <keras.layers.merging.concatenate.Concatenate object at 0x7f2f7f5c0dc0>, <keras.layers.normalization.batch_normalization.BatchNormalization object at 0x7f2f7f649ac0>, <keras.layers.core.activation.Activation object at 0x7f2f7f571190>, <keras.layers.convolutional.conv2d.Conv2D object at 0x7f2f7f4c5d30>, <keras.layers.normalization.batch_normalization.BatchNormalization object at 0x7f2f7f551d00>, <keras.layers.core.activation.Activation object at 0x7f2f7f5548b0>, <keras.layers.convolutional.conv2d.Conv2D object at 0x7f2f7f554430>, <keras.layers.merging.concatenate.Concatenate object at 0x7f2f7f554670>, <keras.layers.normalization.batch_normalization.BatchNormalization object at 0x7f2f7f59c0a0>, <keras.layers.core.activation.Activation object at 0x7f2f7f4d09d0>, <keras.layers.convolutional.conv2d.Conv2D object at 0x7f2f7f4c5b20>, <keras.layers.normalization.batch_normalization.BatchNormalization object at 0x7f2f7f4d43a0>, <keras.layers.core.activation.Activation object at 0x7f2f7f4d0700>, <keras.layers.convolutional.conv2d.Conv2D object at 0x7f2f7f4670a0>, <keras.layers.merging.concatenate.Concatenate object at 0x7f2f7f4d49d0>, <keras.layers.normalization.batch_normalization.BatchNormalization object at 0x7f2f7f4d46a0>, <keras.layers.core.activation.Activation object at 0x7f2f7f467160>, <keras.layers.convolutional.conv2d.Conv2D object at 0x7f2f7f475d30>, <keras.layers.normalization.batch_normalization.BatchNormalization object at 0x7f2f7f467b80>, <keras.layers.core.activation.Activation object at 0x7f2f7f487c40>, <keras.layers.convolutional.conv2d.Conv2D object at 0x7f2f7f487d60>, <keras.layers.merging.concatenate.Concatenate object at 0x7f2f7f46ee50>, <keras.layers.normalization.batch_normalization.BatchNormalization object at 0x7f2f7f4c5bb0>, <keras.layers.core.activation.Activation object at 0x7f2f7f48f3d0>, <keras.layers.convolutional.conv2d.Conv2D object at 0x7f2f7f48fd90>, <keras.layers.normalization.batch_normalization.BatchNormalization object at 0x7f2f7f46e7f0>, <keras.layers.core.activation.Activation object at 0x7f2f7f423070>, <keras.layers.convolutional.conv2d.Conv2D object at 0x7f2f7f498640>, <keras.layers.merging.concatenate.Concatenate object at 0x7f2f7f498ac0>, <keras.layers.normalization.batch_normalization.BatchNormalization object at 0x7f2f7f487fa0>, <keras.layers.core.activation.Activation object at 0x7f2f7f431520>, <keras.layers.convolutional.conv2d.Conv2D object at 0x7f2f7f431970>, <keras.layers.normalization.batch_normalization.BatchNormalization object at 0x7f2f7f429d60>, <keras.layers.core.activation.Activation object at 0x7f2f7f4803a0>, <keras.layers.convolutional.conv2d.Conv2D object at 0x7f2f7f4800a0>, <keras.layers.merging.concatenate.Concatenate object at 0x7f2f7f467a60>, <keras.layers.normalization.batch_normalization.BatchNormalization object at 0x7f2fa9dd3bb0>, <keras.layers.core.activation.Activation object at 0x7f30607f2310>, <keras.layers.convolutional.conv2d.Conv2D object at 0x7f2fa9dd3250>, <keras.layers.normalization.batch_normalization.BatchNormalization object at 0x7f2fa9d56a60>, <keras.layers.core.activation.Activation object at 0x7f2fa9dd3100>, <keras.layers.convolutional.conv2d.Conv2D object at 0x7f2f7f708190>, <keras.layers.merging.concatenate.Concatenate object at 0x7f2f7f710cd0>, <keras.layers.normalization.batch_normalization.BatchNormalization object at 0x7f2f7f675e20>, <keras.layers.core.activation.Activation object at 0x7f2f7f67a5e0>, <keras.layers.convolutional.conv2d.Conv2D object at 0x7f2f7f698310>, <keras.layers.normalization.batch_normalization.BatchNormalization object at 0x7f2f7f6f57c0>, <keras.layers.core.activation.Activation object at 0x7f2f7f6ccb50>, <keras.layers.convolutional.conv2d.Conv2D object at 0x7f2f7f607310>, <keras.layers.merging.concatenate.Concatenate object at 0x7f2f7f661520>, <keras.layers.normalization.batch_normalization.BatchNormalization object at 0x7f2f7f5f8ac0>, <keras.layers.core.activation.Activation object at 0x7f2f7f5f83a0>, <keras.layers.convolutional.conv2d.Conv2D object at 0x7f2f7f5e3b50>, <keras.layers.normalization.batch_normalization.BatchNormalization object at 0x7f2f7f5e3c10>, <keras.layers.core.activation.Activation object at 0x7f2f7f5eafd0>, <keras.layers.convolutional.conv2d.Conv2D object at 0x7f2f7f6c47c0>, <keras.layers.merging.concatenate.Concatenate object at 0x7f2f7f6c4e50>, <keras.layers.normalization.batch_normalization.BatchNormalization object at 0x7f2f7f597d90>, <keras.layers.core.activation.Activation object at 0x7f2f7f597100>, <keras.layers.convolutional.conv2d.Conv2D object at 0x7f2f7f5a16a0>, <keras.layers.normalization.batch_normalization.BatchNormalization object at 0x7f2f7f52c7f0>, <keras.layers.core.activation.Activation object at 0x7f2f7f5d3730>, <keras.layers.convolutional.conv2d.Conv2D object at 0x7f2f7f68bdf0>, <keras.layers.merging.concatenate.Concatenate object at 0x7f2f7f5d33d0>, <keras.layers.normalization.batch_normalization.BatchNormalization object at 0x7f2f7f59c9d0>, <keras.layers.core.activation.Activation object at 0x7f2f7f59c610>, <keras.layers.convolutional.conv2d.Conv2D object at 0x7f2f7f63b910>, <keras.layers.normalization.batch_normalization.BatchNormalization object at 0x7f2f7f52f940>, <keras.layers.core.activation.Activation object at 0x7f2f7f48f520>, <keras.layers.convolutional.conv2d.Conv2D object at 0x7f2f7f4293a0>, <keras.layers.merging.concatenate.Concatenate object at 0x7f2f7f429880>, <keras.layers.normalization.batch_normalization.BatchNormalization object at 0x7f2f7f5b2190>, <keras.layers.core.activation.Activation object at 0x7f2f7f5b2ee0>, <keras.layers.convolutional.conv2d.Conv2D object at 0x7f2f7f5c07f0>, <keras.layers.normalization.batch_normalization.BatchNormalization object at 0x7f2f7f5c01f0>, <keras.layers.core.activation.Activation object at 0x7f2f7f642730>, <keras.layers.convolutional.conv2d.Conv2D object at 0x7f2f7f649d60>, <keras.layers.merging.concatenate.Concatenate object at 0x7f2f7f637f40>, <keras.layers.normalization.batch_normalization.BatchNormalization object at 0x7f2f7f4313a0>, <keras.layers.core.activation.Activation object at 0x7f2f7f5d8460>, <keras.layers.convolutional.conv2d.Conv2D object at 0x7f2f7f615f70>, <keras.layers.normalization.batch_normalization.BatchNormalization object at 0x7f2f7f4239d0>, <keras.layers.core.activation.Activation object at 0x7f2f7f596310>, <keras.layers.convolutional.conv2d.Conv2D object at 0x7f2f7f6dafa0>, <keras.layers.merging.concatenate.Concatenate object at 0x7f2f7f66aee0>, <keras.layers.normalization.batch_normalization.BatchNormalization object at 0x7f2fa9dbe070>, <keras.layers.core.activation.Activation object at 0x7f2f7f713c40>, <keras.layers.convolutional.conv2d.Conv2D object at 0x7f2f7f6a4640>, <keras.layers.normalization.batch_normalization.BatchNormalization object at 0x7f2f7f6a4d60>, <keras.layers.core.activation.Activation object at 0x7f2f7f571340>, <keras.layers.convolutional.conv2d.Conv2D object at 0x7f2f7f4e8bb0>, <keras.layers.merging.concatenate.Concatenate object at 0x7f2f7f509400>, <keras.layers.normalization.batch_normalization.BatchNormalization object at 0x7f2f7f4efca0>, <keras.layers.core.activation.Activation object at 0x7f2f7f4adb80>, <keras.layers.convolutional.conv2d.Conv2D object at 0x7f2f7f43bd30>, <keras.layers.normalization.batch_normalization.BatchNormalization object at 0x7f2f7f43b9a0>, <keras.layers.core.activation.Activation object at 0x7f2f7f54c640>, <keras.layers.convolutional.conv2d.Conv2D object at 0x7f2f7f3aeb20>, <keras.layers.merging.concatenate.Concatenate object at 0x7f2f7f3ae670>, <keras.layers.normalization.batch_normalization.BatchNormalization object at 0x7f2f7f3b4e50>, <keras.layers.core.activation.Activation object at 0x7f2f7f3bac10>, <keras.layers.convolutional.conv2d.Conv2D object at 0x7f2f7f3b4c10>, <keras.layers.normalization.batch_normalization.BatchNormalization object at 0x7f2f7f3ba130>, <keras.layers.core.activation.Activation object at 0x7f2f7f3cb670>, <keras.layers.convolutional.conv2d.Conv2D object at 0x7f2f7f3cbee0>, <keras.layers.merging.concatenate.Concatenate object at 0x7f2f7f3cbfa0>, <keras.layers.normalization.batch_normalization.BatchNormalization object at 0x7f2f7f3d7160>, <keras.layers.core.activation.Activation object at 0x7f2f7f3d73d0>, <keras.layers.convolutional.conv2d.Conv2D object at 0x7f2f7f3cff70>, <keras.layers.normalization.batch_normalization.BatchNormalization object at 0x7f2f7f3d76d0>, <keras.layers.core.activation.Activation object at 0x7f2f7f36c070>, <keras.layers.convolutional.conv2d.Conv2D object at 0x7f2f7f36c4c0>, <keras.layers.merging.concatenate.Concatenate object at 0x7f2f7f3ddd60>, <keras.layers.normalization.batch_normalization.BatchNormalization object at 0x7f2f7f3726d0>, <keras.layers.core.activation.Activation object at 0x7f2f7f379730>, <keras.layers.convolutional.conv2d.Conv2D object at 0x7f2f7f3792b0>, <keras.layers.normalization.batch_normalization.BatchNormalization object at 0x7f2f7f3dddf0>, <keras.layers.core.activation.Activation object at 0x7f2f7f389190>, <keras.layers.convolutional.conv2d.Conv2D object at 0x7f2f7f389a90>, <keras.layers.merging.concatenate.Concatenate object at 0x7f2f7f389ee0>, <keras.layers.normalization.batch_normalization.BatchNormalization object at 0x7f2f7f36cf70>, <keras.layers.core.activation.Activation object at 0x7f2f7f3c57c0>, <keras.layers.convolutional.conv2d.Conv2D object at 0x7f2f7f3cbd00>, <keras.layers.normalization.batch_normalization.BatchNormalization object at 0x7f2f7f3cbb50>, <keras.layers.core.activation.Activation object at 0x7f2f7f3a87f0>, <keras.layers.convolutional.conv2d.Conv2D object at 0x7f2f7f4dbd60>, <keras.layers.merging.concatenate.Concatenate object at 0x7f2f7f4be430>, <keras.layers.normalization.batch_normalization.BatchNormalization object at 0x7f2f7f43b8b0>, <keras.layers.core.activation.Activation object at 0x7f2f7f3cb730>, <keras.layers.convolutional.conv2d.Conv2D object at 0x7f2f7f3902b0>, <keras.layers.normalization.batch_normalization.BatchNormalization object at 0x7f2f7f5fe940>, <keras.layers.core.activation.Activation object at 0x7f2f7f43b790>, <keras.layers.convolutional.conv2d.Conv2D object at 0x7f2f7f3966d0>, <keras.layers.merging.concatenate.Concatenate object at 0x7f2f7f6da790>, <keras.layers.normalization.batch_normalization.BatchNormalization object at 0x7f2f7f39a700>, <keras.layers.core.activation.Activation object at 0x7f2f7f39e790>, <keras.layers.convolutional.conv2d.Conv2D object at 0x7f2f7f39eeb0>, <keras.layers.normalization.batch_normalization.BatchNormalization object at 0x7f2f7f39e310>, <keras.layers.core.activation.Activation object at 0x7f2f7f32a190>, <keras.layers.convolutional.conv2d.Conv2D object at 0x7f2f7f32ac40>, <keras.layers.merging.concatenate.Concatenate object at 0x7f2f7f32a910>, <keras.layers.normalization.batch_normalization.BatchNormalization object at 0x7f2f7f330f40>, <keras.layers.core.activation.Activation object at 0x7f2f7f336d00>, <keras.layers.convolutional.conv2d.Conv2D object at 0x7f2f7f330d00>, <keras.layers.normalization.batch_normalization.BatchNormalization object at 0x7f2f7f336220>, <keras.layers.core.activation.Activation object at 0x7f2f7f34b850>, <keras.layers.convolutional.conv2d.Conv2D object at 0x7f2f7f34b9a0>, <keras.layers.merging.concatenate.Concatenate object at 0x7f2f7f34ba30>, <keras.layers.normalization.batch_normalization.BatchNormalization object at 0x7f2f7f351250>, <keras.layers.core.activation.Activation object at 0x7f2f7f3514c0>, <keras.layers.convolutional.conv2d.Conv2D object at 0x7f2f7f35b550>, <keras.layers.normalization.batch_normalization.BatchNormalization object at 0x7f2f7f34b7c0>, <keras.layers.core.activation.Activation object at 0x7f2f7f2e4d30>, <keras.layers.convolutional.conv2d.Conv2D object at 0x7f2f7f2eac10>, <keras.layers.merging.concatenate.Concatenate object at 0x7f2f7f3475b0>, <keras.layers.normalization.batch_normalization.BatchNormalization object at 0x7f2f7f330730>, <keras.layers.core.activation.Activation object at 0x7f2f7f330f10>, <keras.layers.convolutional.conv2d.Conv2D object at 0x7f2f7f2ea0d0>, <keras.layers.normalization.batch_normalization.BatchNormalization object at 0x7f2f7f2eac40>, <keras.layers.core.activation.Activation object at 0x7f2f7f2f94f0>, <keras.layers.convolutional.conv2d.Conv2D object at 0x7f2f7f2f9a30>, <keras.layers.merging.concatenate.Concatenate object at 0x7f2f7f2ea880>, <keras.layers.normalization.batch_normalization.BatchNormalization object at 0x7f2f7f35b460>, <keras.layers.core.activation.Activation object at 0x7f2f7f35b3d0>, <keras.layers.convolutional.conv2d.Conv2D object at 0x7f2f7f3477f0>, <keras.layers.normalization.batch_normalization.BatchNormalization object at 0x7f2f7f2f78b0>, <keras.layers.core.activation.Activation object at 0x7f2f7f347880>, <keras.layers.convolutional.conv2d.Conv2D object at 0x7f2f7f396220>, <keras.layers.merging.concatenate.Concatenate object at 0x7f2f7f3dde80>, <keras.layers.normalization.batch_normalization.BatchNormalization object at 0x7f2f7f3cb910>, <keras.layers.core.activation.Activation object at 0x7f2f7f3cfc70>, <keras.layers.convolutional.conv2d.Conv2D object at 0x7f2f7f30a880>, <keras.layers.normalization.batch_normalization.BatchNormalization object at 0x7f2f7f30a1f0>, <keras.layers.core.activation.Activation object at 0x7f2f7f30ed30>, <keras.layers.convolutional.conv2d.Conv2D object at 0x7f2f7f30a160>, <keras.layers.merging.concatenate.Concatenate object at 0x7f2f7f30e550>, <keras.layers.normalization.batch_normalization.BatchNormalization object at 0x7f2f7f314820>, <keras.layers.core.activation.Activation object at 0x7f2f7f317880>, <keras.layers.convolutional.conv2d.Conv2D object at 0x7f2f7f317310>, <keras.layers.normalization.batch_normalization.BatchNormalization object at 0x7f2f7f442610>, <keras.layers.core.activation.Activation object at 0x7f2f7f2a22e0>, <keras.layers.convolutional.conv2d.Conv2D object at 0x7f2f7f2a2f10>, <keras.layers.merging.concatenate.Concatenate object at 0x7f2f7f31ea30>, <keras.layers.normalization.batch_normalization.BatchNormalization object at 0x7f2f7f2a9f70>, <keras.layers.core.activation.Activation object at 0x7f2f7f2b2ca0>, <keras.layers.convolutional.conv2d.Conv2D object at 0x7f2f7f2b2550>, <keras.layers.normalization.batch_normalization.BatchNormalization object at 0x7f2f7f2b20d0>, <keras.layers.core.activation.Activation object at 0x7f2f7f2c6940>, <keras.layers.convolutional.conv2d.Conv2D object at 0x7f2f7f2c6b50>, <keras.layers.merging.concatenate.Concatenate object at 0x7f2f7f2c6070>, <keras.layers.normalization.batch_normalization.BatchNormalization object at 0x7f2f7f2ca340>, <keras.layers.core.activation.Activation object at 0x7f2f7f2ca5b0>, <keras.layers.convolutional.conv2d.Conv2D object at 0x7f2f7f2bb8b0>, <keras.layers.normalization.batch_normalization.BatchNormalization object at 0x7f2f7f2ca670>, <keras.layers.core.activation.Activation object at 0x7f2f7f261250>, <keras.layers.convolutional.conv2d.Conv2D object at 0x7f2f7f261850>, <keras.layers.merging.concatenate.Concatenate object at 0x7f2f7f261be0>, <keras.layers.normalization.batch_normalization.BatchNormalization object at 0x7f2f7f26a8b0>, <keras.layers.core.activation.Activation object at 0x7f2f7f2707c0>, <keras.layers.convolutional.conv2d.Conv2D object at 0x7f2f7f270e80>, <keras.layers.normalization.batch_normalization.BatchNormalization object at 0x7f2f7f261e20>, <keras.layers.core.activation.Activation object at 0x7f2f7f27e3a0>, <keras.layers.convolutional.conv2d.Conv2D object at 0x7f2f7f27e6d0>, <keras.layers.merging.concatenate.Concatenate object at 0x7f2f7f2704c0>, <keras.layers.normalization.batch_normalization.BatchNormalization object at 0x7f2f7f27e640>, <keras.layers.core.activation.Activation object at 0x7f2f7f2ca160>, <keras.layers.convolutional.conv2d.Conv2D object at 0x7f2f7f2d4370>, <keras.layers.normalization.batch_normalization.BatchNormalization object at 0x7f2f7f2c0910>, <keras.layers.core.activation.Activation object at 0x7f2f7f2c6970>, <keras.layers.convolutional.conv2d.Conv2D object at 0x7f2f7f31e100>, <keras.layers.merging.concatenate.Concatenate object at 0x7f2f7f2a27f0>, <keras.layers.normalization.batch_normalization.BatchNormalization object at 0x7f2f7f2774f0>, <keras.layers.core.activation.Activation object at 0x7f2f7f27eca0>, <keras.layers.convolutional.conv2d.Conv2D object at 0x7f2f7f314370>, <keras.layers.normalization.batch_normalization.BatchNormalization object at 0x7f2f7f314fd0>, <keras.layers.core.activation.Activation object at 0x7f2f7f3a88e0>, <keras.layers.convolutional.conv2d.Conv2D object at 0x7f2f7f27eb20>, <keras.layers.merging.concatenate.Concatenate object at 0x7f2f7f33f8b0>, <keras.layers.normalization.batch_normalization.BatchNormalization object at 0x7f2f7f34bc40>, <keras.layers.core.activation.Activation object at 0x7f2f7f39e9a0>, <keras.layers.convolutional.conv2d.Conv2D object at 0x7f2f7f26aee0>, <keras.layers.normalization.batch_normalization.BatchNormalization object at 0x7f2f7f2d4160>, <keras.layers.core.activation.Activation object at 0x7f2f7f2a96a0>, <keras.layers.convolutional.conv2d.Conv2D object at 0x7f2f7f2d4580>, <keras.layers.merging.concatenate.Concatenate object at 0x7f2f7f394e80>, <keras.layers.normalization.batch_normalization.BatchNormalization object at 0x7f2f7f336e50>, <keras.layers.core.activation.Activation object at 0x7f2f7f2864c0>, <keras.layers.convolutional.conv2d.Conv2D object at 0x7f2f7f294cd0>, <keras.layers.normalization.batch_normalization.BatchNormalization object at 0x7f2f7f286640>, <keras.layers.core.activation.Activation object at 0x7f2f7f28fdc0>, <keras.layers.convolutional.conv2d.Conv2D object at 0x7f2f7f294ca0>, <keras.layers.merging.concatenate.Concatenate object at 0x7f2f7f2949d0>, <keras.layers.normalization.batch_normalization.BatchNormalization object at 0x7f2f7f294d60>, <keras.layers.core.activation.Activation object at 0x7f2f7f224940>, <keras.layers.convolutional.conv2d.Conv2D object at 0x7f2f7f228040>, <keras.layers.normalization.batch_normalization.BatchNormalization object at 0x7f2f7f232fd0>, <keras.layers.core.activation.Activation object at 0x7f2f7f299340>, <keras.layers.convolutional.conv2d.Conv2D object at 0x7f2f7f245850>, <keras.layers.merging.concatenate.Concatenate object at 0x7f2f7f232a30>, <keras.layers.normalization.batch_normalization.BatchNormalization object at 0x7f2f7f299820>, <keras.layers.core.activation.Activation object at 0x7f2f7f228430>, <keras.layers.convolutional.conv2d.Conv2D object at 0x7f2f7f255a30>, <keras.layers.normalization.batch_normalization.BatchNormalization object at 0x7f2f7f23bf70>, <keras.layers.core.activation.Activation object at 0x7f2f7f1e68e0>, <keras.layers.convolutional.conv2d.Conv2D object at 0x7f2f7f1e6a00>, <keras.layers.merging.concatenate.Concatenate object at 0x7f2f7f24df10>, <keras.layers.normalization.batch_normalization.BatchNormalization object at 0x7f2f7f228fa0>, <keras.layers.core.activation.Activation object at 0x7f2f7f1edbe0>, <keras.layers.convolutional.conv2d.Conv2D object at 0x7f2f7f1edbb0>, <keras.layers.normalization.batch_normalization.BatchNormalization object at 0x7f2f7f25e3d0>, <keras.layers.core.activation.Activation object at 0x7f2f7f23bb20>, <keras.layers.convolutional.conv2d.Conv2D object at 0x7f2f7f23b670>, <keras.layers.merging.concatenate.Concatenate object at 0x7f2f7f232160>, <keras.layers.normalization.batch_normalization.BatchNormalization object at 0x7f2f7f25eac0>, <keras.layers.core.activation.Activation object at 0x7f2f7f228f40>, <keras.layers.convolutional.conv2d.Conv2D object at 0x7f2f7f1e6ac0>, <keras.layers.normalization.batch_normalization.BatchNormalization object at 0x7f2f7f33f4f0>, <keras.layers.core.activation.Activation object at 0x7f2f7f232220>, <keras.layers.convolutional.conv2d.Conv2D object at 0x7f2f7f2d4af0>, <keras.layers.merging.concatenate.Concatenate object at 0x7f2f7f2d49a0>, <keras.layers.normalization.batch_normalization.BatchNormalization object at 0x7f2f7f2459d0>, <keras.layers.core.activation.Activation object at 0x7f2f7f207550>, <keras.layers.convolutional.conv2d.Conv2D object at 0x7f2f7f286790>, <keras.layers.normalization.batch_normalization.BatchNormalization object at 0x7f2f7f28f160>, <keras.layers.core.activation.Activation object at 0x7f2f7f286e50>, <keras.layers.convolutional.conv2d.Conv2D object at 0x7f2f7f218580>, <keras.layers.merging.concatenate.Concatenate object at 0x7f2f7f20f5b0>, <keras.layers.normalization.batch_normalization.BatchNormalization object at 0x7f2f7f1fa9d0>, <keras.layers.core.activation.Activation object at 0x7f2f7f207610>, <keras.layers.convolutional.conv2d.Conv2D object at 0x7f2f7f218790>, <keras.layers.normalization.batch_normalization.BatchNormalization object at 0x7f2f7f2070d0>, <keras.layers.core.activation.Activation object at 0x7f2f7f218400>, <keras.layers.convolutional.conv2d.Conv2D object at 0x7f2f7f2020a0>, <keras.layers.merging.concatenate.Concatenate object at 0x7f2f7f207040>, <keras.layers.normalization.batch_normalization.BatchNormalization object at 0x7f2f7f52f820>, <keras.layers.core.activation.Activation object at 0x7f2f7f1aa6a0>, <keras.layers.convolutional.conv2d.Conv2D object at 0x7f2f7f1b00a0>, <keras.layers.pooling.average_pooling2d.AveragePooling2D object at 0x7f2f7f20f7c0>, <keras.layers.normalization.batch_normalization.BatchNormalization object at 0x7f2f7f203ca0>, <keras.layers.core.activation.Activation object at 0x7f2f7f1bb400>, <keras.layers.convolutional.conv2d.Conv2D object at 0x7f2f7f1aa400>, <keras.layers.normalization.batch_normalization.BatchNormalization object at 0x7f2f7f20f670>, <keras.layers.core.activation.Activation object at 0x7f2f7f1bfd60>, <keras.layers.convolutional.conv2d.Conv2D object at 0x7f2f7f1b0400>, <keras.layers.merging.concatenate.Concatenate object at 0x7f2f7f202b80>, <keras.layers.normalization.batch_normalization.BatchNormalization object at 0x7f2f7f1aadf0>, <keras.layers.core.activation.Activation object at 0x7f2f7f1c9220>, <keras.layers.convolutional.conv2d.Conv2D object at 0x7f2f7f1c9370>, <keras.layers.normalization.batch_normalization.BatchNormalization object at 0x7f2f7f1d30a0>, <keras.layers.core.activation.Activation object at 0x7f2f7f1bf0a0>, <keras.layers.convolutional.conv2d.Conv2D object at 0x7f2f7f162df0>, <keras.layers.merging.concatenate.Concatenate object at 0x7f2f7f1d3a30>, <keras.layers.normalization.batch_normalization.BatchNormalization object at 0x7f2f7f1d3040>, <keras.layers.core.activation.Activation object at 0x7f2f7f16e760>, <keras.layers.convolutional.conv2d.Conv2D object at 0x7f2f7f16eaf0>, <keras.layers.normalization.batch_normalization.BatchNormalization object at 0x7f2f7f1dd610>, <keras.layers.core.activation.Activation object at 0x7f2f7f1bf1c0>, <keras.layers.convolutional.conv2d.Conv2D object at 0x7f2f7f277520>, <keras.layers.merging.concatenate.Concatenate object at 0x7f2f7f202220>, <keras.layers.normalization.batch_normalization.BatchNormalization object at 0x7f2f7f1ddbb0>, <keras.layers.core.activation.Activation object at 0x7f2f7f30e1c0>, <keras.layers.convolutional.conv2d.Conv2D object at 0x7f2f7f551520>, <keras.layers.normalization.batch_normalization.BatchNormalization object at 0x7f2f7f2b2fa0>, <keras.layers.core.activation.Activation object at 0x7f2f7f2dcfd0>, <keras.layers.convolutional.conv2d.Conv2D object at 0x7f2f7f23b3a0>, <keras.layers.merging.concatenate.Concatenate object at 0x7f2f7f245640>, <keras.layers.normalization.batch_normalization.BatchNormalization object at 0x7f2f7f1c99d0>, <keras.layers.core.activation.Activation object at 0x7f2f7f24d7f0>, <keras.layers.convolutional.conv2d.Conv2D object at 0x7f2f7f1845e0>, <keras.layers.normalization.batch_normalization.BatchNormalization object at 0x7f2f7f232100>, <keras.layers.core.activation.Activation object at 0x7f2f7f1843a0>, <keras.layers.convolutional.conv2d.Conv2D object at 0x7f2f7f18da60>, <keras.layers.merging.concatenate.Concatenate object at 0x7f2f7f180c10>, <keras.layers.normalization.batch_normalization.BatchNormalization object at 0x7f2f7f232580>, <keras.layers.core.activation.Activation object at 0x7f2f7f184f10>, <keras.layers.convolutional.conv2d.Conv2D object at 0x7f2f7f18d8b0>, <keras.layers.normalization.batch_normalization.BatchNormalization object at 0x7f2f7f1848b0>, <keras.layers.core.activation.Activation object at 0x7f2f7f18d550>, <keras.layers.convolutional.conv2d.Conv2D object at 0x7f2f7f19ad60>, <keras.layers.merging.concatenate.Concatenate object at 0x7f2f7f1848e0>, <keras.layers.normalization.batch_normalization.BatchNormalization object at 0x7f2f7f125940>, <keras.layers.core.activation.Activation object at 0x7f2f7f1253a0>, <keras.layers.convolutional.conv2d.Conv2D object at 0x7f2f7f12f3a0>, <keras.layers.normalization.batch_normalization.BatchNormalization object at 0x7f2f7f175070>, <keras.layers.core.activation.Activation object at 0x7f2f7f1752b0>, <keras.layers.convolutional.conv2d.Conv2D object at 0x7f2f7f12f580>, <keras.layers.merging.concatenate.Concatenate object at 0x7f2f7f125040>, <keras.layers.normalization.batch_normalization.BatchNormalization object at 0x7f2f7f19a220>, <keras.layers.core.activation.Activation object at 0x7f2f7f125f10>, <keras.layers.convolutional.conv2d.Conv2D object at 0x7f2f7f12f700>, <keras.layers.normalization.batch_normalization.BatchNormalization object at 0x7f2f7f19a0a0>, <keras.layers.core.activation.Activation object at 0x7f2f7f139670>, <keras.layers.convolutional.conv2d.Conv2D object at 0x7f2f7f151550>, <keras.layers.merging.concatenate.Concatenate object at 0x7f2f7f19a1c0>, <keras.layers.normalization.batch_normalization.BatchNormalization object at 0x7f2f7f13d850>, <keras.layers.core.activation.Activation object at 0x7f2f7f0e1730>, <keras.layers.convolutional.conv2d.Conv2D object at 0x7f2f7f0e1f40>, <keras.layers.normalization.batch_normalization.BatchNormalization object at 0x7f2f7f151d30>, <keras.layers.core.activation.Activation object at 0x7f2f7f0f5dc0>, <keras.layers.convolutional.conv2d.Conv2D object at 0x7f2f7f0f5ee0>, <keras.layers.merging.concatenate.Concatenate object at 0x7f2f7f0f5310>, <keras.layers.normalization.batch_normalization.BatchNormalization object at 0x7f2f7f0f5f10>, <keras.layers.core.activation.Activation object at 0x7f2f7f13dca0>, <keras.layers.convolutional.conv2d.Conv2D object at 0x7f2f7f13d070>, <keras.layers.normalization.batch_normalization.BatchNormalization object at 0x7f2f7f12f970>, <keras.layers.core.activation.Activation object at 0x7f2f7f13d250>, <keras.layers.convolutional.conv2d.Conv2D object at 0x7f2f7f1807f0>, <keras.layers.merging.concatenate.Concatenate object at 0x7f2f7f2a2700>, <keras.layers.normalization.batch_normalization.BatchNormalization object at 0x7f2f7f0f5250>, <keras.layers.core.activation.Activation object at 0x7f2f7f0f5790>, <keras.layers.convolutional.conv2d.Conv2D object at 0x7f2f7f1bb580>, <keras.layers.normalization.batch_normalization.BatchNormalization object at 0x7f2f7f1d3430>, <keras.layers.core.activation.Activation object at 0x7f2f7f270b50>, <keras.layers.convolutional.conv2d.Conv2D object at 0x7f2f7f0e97c0>, <keras.layers.merging.concatenate.Concatenate object at 0x7f2f7f20fd30>, <keras.layers.normalization.batch_normalization.BatchNormalization object at 0x7f2f7f1759a0>, <keras.layers.core.activation.Activation object at 0x7f2f7f102f10>, <keras.layers.convolutional.conv2d.Conv2D object at 0x7f2f7f0fc0d0>, <keras.layers.normalization.batch_normalization.BatchNormalization object at 0x7f2f7f10e1f0>, <keras.layers.core.activation.Activation object at 0x7f2f7f1fa160>, <keras.layers.convolutional.conv2d.Conv2D object at 0x7f2f7f10b760>, <keras.layers.merging.concatenate.Concatenate object at 0x7f2f7f0fc4f0>, <keras.layers.normalization.batch_normalization.BatchNormalization object at 0x7f2f7f1022b0>, <keras.layers.core.activation.Activation object at 0x7f2f7f10b880>, <keras.layers.convolutional.conv2d.Conv2D object at 0x7f2f7f119df0>, <keras.layers.normalization.batch_normalization.BatchNormalization object at 0x7f2f7f0b0d30>, <keras.layers.core.activation.Activation object at 0x7f2f7f0a7f70>, <keras.layers.convolutional.conv2d.Conv2D object at 0x7f2f7f102820>, <keras.layers.merging.concatenate.Concatenate object at 0x7f2f7f0b0ee0>, <keras.layers.normalization.batch_normalization.BatchNormalization object at 0x7f2f7f119280>, <keras.layers.core.activation.Activation object at 0x7f2f7f102880>, <keras.layers.convolutional.conv2d.Conv2D object at 0x7f2f7f10eca0>, <keras.layers.normalization.batch_normalization.BatchNormalization object at 0x7f2f7f10eb20>, <keras.layers.core.activation.Activation object at 0x7f2f7f1026a0>, <keras.layers.convolutional.conv2d.Conv2D object at 0x7f2f7f0ca5b0>, <keras.layers.merging.concatenate.Concatenate object at 0x7f2f7f0b4df0>, <keras.layers.normalization.batch_normalization.BatchNormalization object at 0x7f2f7f0b4190>, <keras.layers.core.activation.Activation object at 0x7f2f7f0d28b0>, <keras.layers.convolutional.conv2d.Conv2D object at 0x7f2f7f0d2e50>, <keras.layers.normalization.batch_normalization.BatchNormalization object at 0x7f2f7f0a7be0>, <keras.layers.core.activation.Activation object at 0x7f2f7f0d28e0>, <keras.layers.convolutional.conv2d.Conv2D object at 0x7f2f7f0dbb50>, <keras.layers.merging.concatenate.Concatenate object at 0x7f2f7f0dbf70>, <keras.layers.normalization.batch_normalization.BatchNormalization object at 0x7f2f7f0c4be0>, <keras.layers.core.activation.Activation object at 0x7f2f7f0763d0>, <keras.layers.convolutional.conv2d.Conv2D object at 0x7f2f7f076df0>, <keras.layers.normalization.batch_normalization.BatchNormalization object at 0x7f2f7f076790>, <keras.layers.core.activation.Activation object at 0x7f2f7f0ca910>, <keras.layers.convolutional.conv2d.Conv2D object at 0x7f2f7f0b0370>, <keras.layers.merging.concatenate.Concatenate object at 0x7f2f7f0cae50>, <keras.layers.normalization.batch_normalization.BatchNormalization object at 0x7f2f7f0c47f0>, <keras.layers.core.activation.Activation object at 0x7f2f7f06ee20>, <keras.layers.convolutional.conv2d.Conv2D object at 0x7f2f7f102cd0>, <keras.layers.normalization.batch_normalization.BatchNormalization object at 0x7f2f7f10bca0>, <keras.layers.core.activation.Activation object at 0x7f2f7f102ca0>, <keras.layers.convolutional.conv2d.Conv2D object at 0x7f2f7f151a60>, <keras.layers.merging.concatenate.Concatenate object at 0x7f2f7f0b0040>, <keras.layers.normalization.batch_normalization.BatchNormalization object at 0x7f2f7f119610>, <keras.layers.core.activation.Activation object at 0x7f2f7f0a7370>, <keras.layers.convolutional.conv2d.Conv2D object at 0x7f2f7f0874f0>, <keras.layers.normalization.batch_normalization.BatchNormalization object at 0x7f2f7f10bbb0>, <keras.layers.core.activation.Activation object at 0x7f2f7f087ee0>, <keras.layers.convolutional.conv2d.Conv2D object at 0x7f2f7f080e20>, <keras.layers.merging.concatenate.Concatenate object at 0x7f2f7f095e50>, <keras.layers.normalization.batch_normalization.BatchNormalization object at 0x7f2f7f095f10>, <keras.layers.core.activation.Activation object at 0x7f2f7f10e100>, <keras.layers.convolutional.conv2d.Conv2D object at 0x7f2f7f0e17c0>, <keras.layers.normalization.batch_normalization.BatchNormalization object at 0x7f2f7f102f70>, <keras.layers.core.activation.Activation object at 0x7f2f7f080640>, <keras.layers.convolutional.conv2d.Conv2D object at 0x7f2f7f08a3d0>, <keras.layers.merging.concatenate.Concatenate object at 0x7f2f7f095760>, <keras.layers.normalization.batch_normalization.BatchNormalization object at 0x7f2f7f02cd00>, <keras.layers.core.activation.Activation object at 0x7f2f7f024c10>, <keras.layers.convolutional.conv2d.Conv2D object at 0x7f2f7f024fa0>, <keras.layers.normalization.batch_normalization.BatchNormalization object at 0x7f2f7f02cf70>, <keras.layers.core.activation.Activation object at 0x7f2f7f095730>, <keras.layers.convolutional.conv2d.Conv2D object at 0x7f2f7f09efd0>, <keras.layers.merging.concatenate.Concatenate object at 0x7f2f7f095af0>, <keras.layers.normalization.batch_normalization.BatchNormalization object at 0x7f2f7f024a60>, <keras.layers.core.activation.Activation object at 0x7f2f7f048670>, <keras.layers.convolutional.conv2d.Conv2D object at 0x7f2f7f0482e0>, <keras.layers.normalization.batch_normalization.BatchNormalization object at 0x7f2f7f040400>, <keras.layers.core.activation.Activation object at 0x7f2f7f048370>, <keras.layers.convolutional.conv2d.Conv2D object at 0x7f2f7f058520>, <keras.layers.merging.concatenate.Concatenate object at 0x7f2f7f036eb0>, <keras.layers.normalization.batch_normalization.BatchNormalization object at 0x7f2f7f02c610>, <keras.layers.core.activation.Activation object at 0x7f2f7f050ca0>, <keras.layers.convolutional.conv2d.Conv2D object at 0x7f2f7efe7700>, <keras.layers.normalization.batch_normalization.BatchNormalization object at 0x7f2f7f024a30>, <keras.layers.core.activation.Activation object at 0x7f2f7effa5e0>, <keras.layers.convolutional.conv2d.Conv2D object at 0x7f2f7effa700>, <keras.layers.merging.concatenate.Concatenate object at 0x7f2f7effa6a0>, <keras.layers.normalization.batch_normalization.BatchNormalization object at 0x7f2f7effafa0>, <keras.layers.core.activation.Activation object at 0x7f2f7f0504f0>, <keras.layers.convolutional.conv2d.Conv2D object at 0x7f2f7f048e50>, <keras.layers.normalization.batch_normalization.BatchNormalization object at 0x7f2f7f048f40>, <keras.layers.core.activation.Activation object at 0x7f2f7f0508b0>, <keras.layers.convolutional.conv2d.Conv2D object at 0x7f2f7f08a040>, <keras.layers.merging.concatenate.Concatenate object at 0x7f2f7f040670>, <keras.layers.normalization.batch_normalization.BatchNormalization object at 0x7f2f7eff4af0>, <keras.layers.core.activation.Activation object at 0x7f2f7eff40d0>, <keras.layers.convolutional.conv2d.Conv2D object at 0x7f2f7f0a7fa0>, <keras.layers.normalization.batch_normalization.BatchNormalization object at 0x7f2f7f13d9d0>, <keras.layers.core.activation.Activation object at 0x7f2f7f10ea60>, <keras.layers.convolutional.conv2d.Conv2D object at 0x7f2f7f040940>, <keras.layers.merging.concatenate.Concatenate object at 0x7f2f7f048d00>, <keras.layers.normalization.batch_normalization.BatchNormalization object at 0x7f2f7f040f10>, <keras.layers.core.activation.Activation object at 0x7f2f7f000820>, <keras.layers.convolutional.conv2d.Conv2D object at 0x7f2f7f0b02b0>, <keras.layers.normalization.batch_normalization.BatchNormalization object at 0x7f2f7f040520>, <keras.layers.core.activation.Activation object at 0x7f2f7f0b0640>, <keras.layers.convolutional.conv2d.Conv2D object at 0x7f2f7f006640>, <keras.layers.merging.concatenate.Concatenate object at 0x7f2f7f040790>, <keras.layers.normalization.batch_normalization.BatchNormalization object at 0x7f2f7f000a90>, <keras.layers.core.activation.Activation object at 0x7f2f7f0950a0>, <keras.layers.convolutional.conv2d.Conv2D object at 0x7f2f7f087970>, <keras.layers.normalization.batch_normalization.BatchNormalization object at 0x7f2f7f0959a0>, <keras.layers.core.activation.Activation object at 0x7f2f7efa6ac0>, <keras.layers.convolutional.conv2d.Conv2D object at 0x7f2f7f01f220>, <keras.layers.merging.concatenate.Concatenate object at 0x7f2f7f017a30>, <keras.layers.normalization.batch_normalization.BatchNormalization object at 0x7f2f7f0173d0>, <keras.layers.core.activation.Activation object at 0x7f2f7efafaf0>, <keras.layers.convolutional.conv2d.Conv2D object at 0x7f2f7f01f8b0>, <keras.layers.normalization.batch_normalization.BatchNormalization object at 0x7f2f7efa6760>, <keras.layers.core.activation.Activation object at 0x7f2f7efc07c0>, <keras.layers.convolutional.conv2d.Conv2D object at 0x7f2f7f01fa90>, <keras.layers.merging.concatenate.Concatenate object at 0x7f2f7f01f9d0>, <keras.layers.normalization.batch_normalization.BatchNormalization object at 0x7f2f7f00d850>, <keras.layers.core.activation.Activation object at 0x7f2f7f01f520>, <keras.layers.convolutional.conv2d.Conv2D object at 0x7f2f7efd1820>, <keras.layers.normalization.batch_normalization.BatchNormalization object at 0x7f2f7efb8d90>, <keras.layers.core.activation.Activation object at 0x7f2f7efb8a60>, <keras.layers.convolutional.conv2d.Conv2D object at 0x7f2f7ef64340>, <keras.layers.merging.concatenate.Concatenate object at 0x7f2f7efd10d0>, <keras.layers.normalization.batch_normalization.BatchNormalization object at 0x7f2f7efc6760>, <keras.layers.core.activation.Activation object at 0x7f2f7ef71220>, <keras.layers.convolutional.conv2d.Conv2D object at 0x7f2f7ef71100>, <keras.layers.normalization.batch_normalization.BatchNormalization object at 0x7f2f7ef715e0>, <keras.layers.core.activation.Activation object at 0x7f2f7efc69d0>, <keras.layers.convolutional.conv2d.Conv2D object at 0x7f2f7efc0c40>, <keras.layers.merging.concatenate.Concatenate object at 0x7f2f7efc6b80>, <keras.layers.normalization.batch_normalization.BatchNormalization object at 0x7f2f7efd9970>, <keras.layers.core.activation.Activation object at 0x7f2f7f01f370>, <keras.layers.convolutional.conv2d.Conv2D object at 0x7f2f7f000220>, <keras.layers.normalization.batch_normalization.BatchNormalization object at 0x7f2f7f01f250>, <keras.layers.core.activation.Activation object at 0x7f2f7f0b0a60>, <keras.layers.convolutional.conv2d.Conv2D object at 0x7f2f7f058910>, <keras.layers.merging.concatenate.Concatenate object at 0x7f2f7f08a1c0>, <keras.layers.normalization.batch_normalization.BatchNormalization object at 0x7f2f7efb88b0>, <keras.layers.core.activation.Activation object at 0x7f2f7efaf850>, <keras.layers.convolutional.conv2d.Conv2D object at 0x7f2f7efa6ca0>, <keras.layers.normalization.batch_normalization.BatchNormalization object at 0x7f2f7efa6e50>, <keras.layers.core.activation.Activation object at 0x7f2f7f000400>, <keras.layers.convolutional.conv2d.Conv2D object at 0x7f2f7ef80100>, <keras.layers.merging.concatenate.Concatenate object at 0x7f2f7ef716d0>, <keras.layers.normalization.batch_normalization.BatchNormalization object at 0x7f2f7ef89b80>, <keras.layers.core.activation.Activation object at 0x7f2f7ef89550>, <keras.layers.convolutional.conv2d.Conv2D object at 0x7f2f7ef83eb0>, <keras.layers.normalization.batch_normalization.BatchNormalization object at 0x7f2f7ef64820>, <keras.layers.core.activation.Activation object at 0x7f2f7ef90fa0>, <keras.layers.convolutional.conv2d.Conv2D object at 0x7f2f7ef90700>, <keras.layers.merging.concatenate.Concatenate object at 0x7f2f7ef898b0>, <keras.layers.normalization.batch_normalization.BatchNormalization object at 0x7f2f7f52fb20>, <keras.layers.core.activation.Activation object at 0x7f2f7ef89970>]\n"
          ]
        }
      ]
    },
    {
      "cell_type": "code",
      "source": [
        "dens.trainable=False\n",
        "x =Flatten()(dens.output)\n",
        "x =GlobalAveragePooling2D()(dens.output)\n",
        "x= Dense(32, activation='relu')(x)\n",
        "x= Dense(32, activation='relu')(x)\n",
        "out=Dense(30,activation='softmax')(x)\n",
        "model= Model(inputs=dens.inputs, outputs=out, name='DenseNet201')\n",
        "\n",
        "print(len(model.layers))\n",
        "for layer in model.layers:\n",
        "  print(layer.name,\" \",layer.trainable)\n",
        "\n",
        "for layer in model.layers[:10]:\n",
        "  layer.trainable=False\n",
        "model.summary()  \n"
      ],
      "metadata": {
        "id": "phbI6S7wV8ka"
      },
      "execution_count": null,
      "outputs": []
    },
    {
      "cell_type": "code",
      "source": [
        "print(type(dens))"
      ],
      "metadata": {
        "colab": {
          "base_uri": "https://localhost:8080/"
        },
        "id": "jskZLNnpXvll",
        "outputId": "6734b2d4-327c-42fa-e435-c54b4dd556e5"
      },
      "execution_count": 12,
      "outputs": [
        {
          "output_type": "stream",
          "name": "stdout",
          "text": [
            "<class 'keras.engine.functional.Functional'>\n"
          ]
        }
      ]
    },
    {
      "cell_type": "code",
      "source": [
        "from keras.optimizers.optimizer_v2.rmsprop import RMSProp\n",
        "optim_1 = RMSProp(lr=0.0001)\n",
        "model.compile(loss=\"categorical_crossentropy\", optimizer=optim_1, metrics=[\"accuracy\"])"
      ],
      "metadata": {
        "colab": {
          "base_uri": "https://localhost:8080/"
        },
        "id": "IWQa2dusYGb9",
        "outputId": "2974ea59-8c96-409b-bea8-a42a8a9389fe"
      },
      "execution_count": 13,
      "outputs": [
        {
          "output_type": "stream",
          "name": "stderr",
          "text": [
            "/usr/local/lib/python3.8/dist-packages/keras/optimizers/optimizer_v2/rmsprop.py:135: UserWarning: The `lr` argument is deprecated, use `learning_rate` instead.\n",
            "  super(RMSprop, self).__init__(name, **kwargs)\n"
          ]
        }
      ]
    },
    {
      "cell_type": "code",
      "source": [
        "#train\n",
        "train_data= ImageDataGenerator().flow_from_directory(train_path, target_size=(224,224))\n",
        "test_data= ImageDataGenerator().flow_from_directory(test_path, target_size=(224,224))"
      ],
      "metadata": {
        "colab": {
          "base_uri": "https://localhost:8080/"
        },
        "id": "WVfuNtK2YJBf",
        "outputId": "ca99735c-ce8a-4e6b-8516-409e51762741"
      },
      "execution_count": 14,
      "outputs": [
        {
          "output_type": "stream",
          "name": "stdout",
          "text": [
            "Found 3601 images belonging to 30 classes.\n",
            "Found 900 images belonging to 30 classes.\n"
          ]
        }
      ]
    },
    {
      "cell_type": "code",
      "source": [
        "batch_size=50"
      ],
      "metadata": {
        "id": "KWBgMZN-Yfhk"
      },
      "execution_count": 15,
      "outputs": []
    },
    {
      "cell_type": "code",
      "source": [
        "from keras.callbacks import ModelCheckpoint,CSVLogger\n",
        "filepath=\"/content/drive/MyDrive/saved_models/weights-improvement-{epoch:05d}.ckpt\"\n",
        "checkpoint= ModelCheckpoint(filepath, monitor='val_acc', verbose=1, save_best_only=False,save_freq=360, mode='max')\n",
        "#log_csv =CSVLogger('my_logs.csv', separator=',', append=False)\n",
        "callbacks_list =[checkpoint]"
      ],
      "metadata": {
        "id": "bub8EQR7NXO1"
      },
      "execution_count": 24,
      "outputs": []
    },
    {
      "cell_type": "code",
      "source": [
        "#"
      ],
      "metadata": {
        "id": "fGMyPC8Zcjbq"
      },
      "execution_count": null,
      "outputs": []
    },
    {
      "cell_type": "code",
      "source": [
        "hist=model.fit_generator(train_data,\n",
        "                         steps_per_epoch=3600//batch_size,\n",
        "                         epochs=10,\n",
        "                         initial_epoch=0,\n",
        "                         validation_data= test_data,\n",
        "                         validation_steps = 900//batch_size,\n",
        "                         callbacks=callbacks_list)"
      ],
      "metadata": {
        "colab": {
          "base_uri": "https://localhost:8080/"
        },
        "id": "GVtx9KeYYmsR",
        "outputId": "320c1381-34b1-4e6a-d1c7-b97d1b237803"
      },
      "execution_count": 25,
      "outputs": [
        {
          "output_type": "stream",
          "name": "stderr",
          "text": [
            "<ipython-input-25-bad6f095120d>:1: UserWarning: `Model.fit_generator` is deprecated and will be removed in a future version. Please use `Model.fit`, which supports generators.\n",
            "  hist=model.fit_generator(train_data,\n"
          ]
        },
        {
          "output_type": "stream",
          "name": "stdout",
          "text": [
            "Epoch 1/10\n",
            "72/72 [==============================] - 94s 1s/step - loss: 0.7547 - accuracy: 0.8069 - val_loss: 0.8978 - val_accuracy: 0.7587\n",
            "Epoch 2/10\n",
            "72/72 [==============================] - 87s 1s/step - loss: 0.6780 - accuracy: 0.8190 - val_loss: 0.8620 - val_accuracy: 0.7500\n",
            "Epoch 3/10\n",
            "72/72 [==============================] - 86s 1s/step - loss: 0.6526 - accuracy: 0.8218 - val_loss: 0.7618 - val_accuracy: 0.7760\n",
            "Epoch 4/10\n",
            "72/72 [==============================] - 88s 1s/step - loss: 0.6193 - accuracy: 0.8264 - val_loss: 0.7953 - val_accuracy: 0.7865\n",
            "Epoch 5/10\n",
            "71/72 [============================>.] - ETA: 0s - loss: 0.5478 - accuracy: 0.8485\n",
            "Epoch 5: saving model to /content/drive/MyDrive/saved_models/weights-improvement-00005.ckpt\n"
          ]
        },
        {
          "output_type": "stream",
          "name": "stderr",
          "text": [
            "WARNING:absl:Found untraced functions such as _jit_compiled_convolution_op, _jit_compiled_convolution_op, _jit_compiled_convolution_op, _jit_compiled_convolution_op, _jit_compiled_convolution_op while saving (showing 5 of 200). These functions will not be directly callable after loading.\n"
          ]
        },
        {
          "output_type": "stream",
          "name": "stdout",
          "text": [
            "72/72 [==============================] - 179s 3s/step - loss: 0.5478 - accuracy: 0.8488 - val_loss: 0.7270 - val_accuracy: 0.7865\n",
            "Epoch 6/10\n",
            "72/72 [==============================] - 107s 1s/step - loss: 0.5308 - accuracy: 0.8449 - val_loss: 0.6939 - val_accuracy: 0.7899\n",
            "Epoch 7/10\n",
            "72/72 [==============================] - 98s 1s/step - loss: 0.4883 - accuracy: 0.8607 - val_loss: 0.6633 - val_accuracy: 0.7969\n",
            "Epoch 8/10\n",
            "72/72 [==============================] - 96s 1s/step - loss: 0.4650 - accuracy: 0.8650 - val_loss: 0.6416 - val_accuracy: 0.7986\n",
            "Epoch 9/10\n",
            "72/72 [==============================] - 91s 1s/step - loss: 0.4543 - accuracy: 0.8689 - val_loss: 0.6108 - val_accuracy: 0.8142\n",
            "Epoch 10/10\n",
            "71/72 [============================>.] - ETA: 1s - loss: 0.4303 - accuracy: 0.8795\n",
            "Epoch 10: saving model to /content/drive/MyDrive/saved_models/weights-improvement-00010.ckpt\n"
          ]
        },
        {
          "output_type": "stream",
          "name": "stderr",
          "text": [
            "WARNING:absl:Found untraced functions such as _jit_compiled_convolution_op, _jit_compiled_convolution_op, _jit_compiled_convolution_op, _jit_compiled_convolution_op, _jit_compiled_convolution_op while saving (showing 5 of 200). These functions will not be directly callable after loading.\n"
          ]
        },
        {
          "output_type": "stream",
          "name": "stdout",
          "text": [
            "72/72 [==============================] - 172s 2s/step - loss: 0.4277 - accuracy: 0.8803 - val_loss: 0.5994 - val_accuracy: 0.8229\n"
          ]
        }
      ]
    },
    {
      "cell_type": "code",
      "source": [
        "model.load_weights(\"/content/drive/MyDrive/saved_models/weights-improvement-00010.ckpt\")"
      ],
      "metadata": {
        "id": "0_gFZbuED8Wv",
        "colab": {
          "base_uri": "https://localhost:8080/"
        },
        "outputId": "fbfac247-279d-4d94-f630-ad73c3c637f4"
      },
      "execution_count": 26,
      "outputs": [
        {
          "output_type": "execute_result",
          "data": {
            "text/plain": [
              "<tensorflow.python.training.tracking.util.CheckpointLoadStatus at 0x7f2f734c7640>"
            ]
          },
          "metadata": {},
          "execution_count": 26
        }
      ]
    },
    {
      "cell_type": "code",
      "source": [
        "hist=model.fit_generator(train_data,\n",
        "                         steps_per_epoch=3600//batch_size,\n",
        "                         epochs=20,\n",
        "                         initial_epoch=10,\n",
        "                         validation_data= test_data,\n",
        "                         validation_steps = 900//batch_size,\n",
        "                         callbacks=callbacks_list)"
      ],
      "metadata": {
        "id": "oAxsJIlxG-IF"
      },
      "execution_count": null,
      "outputs": []
    },
    {
      "cell_type": "code",
      "source": [
        "model.load_weights(\"/content/drive/MyDrive/saved_models/weights-improvement-00020.ckpt\")"
      ],
      "metadata": {
        "id": "TAYQaKTXHQOl"
      },
      "execution_count": null,
      "outputs": []
    },
    {
      "cell_type": "code",
      "source": [
        "hist=model.fit_generator(train_data,\n",
        "                         steps_per_epoch=3600//batch_size,\n",
        "                         epochs=25,\n",
        "                         initial_epoch=20,\n",
        "                         validation_data= test_data,\n",
        "                         validation_steps = 900//batch_size,\n",
        "                         callbacks=callbacks_list)"
      ],
      "metadata": {
        "id": "Uxb7HJVFHVsq"
      },
      "execution_count": null,
      "outputs": []
    },
    {
      "cell_type": "code",
      "source": [
        "model.load_weights(\"/content/drive/MyDrive/saved_models/weights-improvement-00025.ckpt\")"
      ],
      "metadata": {
        "id": "4Hc1PJmuHba5"
      },
      "execution_count": null,
      "outputs": []
    },
    {
      "cell_type": "code",
      "source": [
        "hist=model.fit_generator(train_data,\n",
        "                         steps_per_epoch=3600//batch_size,\n",
        "                         epochs=40,\n",
        "                         initial_epoch=25,\n",
        "                         validation_data= test_data,\n",
        "                         validation_steps = 900//batch_size,\n",
        "                         callbacks=callbacks_list)"
      ],
      "metadata": {
        "id": "SO7e9tAAIHbM"
      },
      "execution_count": null,
      "outputs": []
    },
    {
      "cell_type": "code",
      "source": [
        "model.load_weights(\"/content/drive/MyDrive/saved_models/weights-improvement-00040.ckpt\")"
      ],
      "metadata": {
        "id": "u_Ph7c5MRXmN"
      },
      "execution_count": null,
      "outputs": []
    },
    {
      "cell_type": "code",
      "source": [
        "hist=model.fit_generator(train_data,\n",
        "                         steps_per_epoch=3600//batch_size,\n",
        "                         epochs=50,\n",
        "                         initial_epoch=40,\n",
        "                         validation_data= test_data,\n",
        "                         validation_steps = 900//batch_size,\n",
        "                         callbacks=callbacks_list)"
      ],
      "metadata": {
        "id": "1niciJDyIgv5"
      },
      "execution_count": null,
      "outputs": []
    },
    {
      "cell_type": "code",
      "source": [
        "model.load_weights(\"/content/drive/MyDrive/saved_models/weights-improvement-00050.ckpt\")"
      ],
      "metadata": {
        "colab": {
          "base_uri": "https://localhost:8080/"
        },
        "id": "PBzHVGzbeXGu",
        "outputId": "d5f97f86-ba31-4de0-fe5f-b25e2b856ad0"
      },
      "execution_count": null,
      "outputs": [
        {
          "output_type": "execute_result",
          "data": {
            "text/plain": [
              "<tensorflow.python.training.tracking.util.CheckpointLoadStatus at 0x7f4d6d4508e0>"
            ]
          },
          "metadata": {},
          "execution_count": 24
        }
      ]
    },
    {
      "cell_type": "code",
      "source": [
        "hist=model.fit_generator(train_data,\n",
        "                         steps_per_epoch=3600//batch_size,\n",
        "                         epochs=65,\n",
        "                         initial_epoch=50,\n",
        "                         validation_data= test_data,\n",
        "                         validation_steps = 900//batch_size,\n",
        "                         callbacks=callbacks_list)"
      ],
      "metadata": {
        "id": "klSNfSJbIm1Z"
      },
      "execution_count": null,
      "outputs": []
    },
    {
      "cell_type": "code",
      "source": [
        "model.load_weights(\"/content/drive/MyDrive/saved_models/weights-improvement-00065.ckpt\")"
      ],
      "metadata": {
        "colab": {
          "base_uri": "https://localhost:8080/"
        },
        "id": "N2pGCCpuzrqG",
        "outputId": "4108669b-032c-4a8f-ef2c-0436c4761dc7"
      },
      "execution_count": null,
      "outputs": [
        {
          "output_type": "execute_result",
          "data": {
            "text/plain": [
              "<tensorflow.python.training.tracking.util.CheckpointLoadStatus at 0x7f4d68910af0>"
            ]
          },
          "metadata": {},
          "execution_count": 26
        }
      ]
    },
    {
      "cell_type": "code",
      "source": [
        "hist=model.fit_generator(train_data,\n",
        "                         steps_per_epoch=3600//batch_size,\n",
        "                         epochs=80,\n",
        "                         initial_epoch=65,\n",
        "                         validation_data= test_data,\n",
        "                         validation_steps = 900//batch_size,\n",
        "                         callbacks=callbacks_list)"
      ],
      "metadata": {
        "id": "XbP5vzCMI7eW",
        "colab": {
          "base_uri": "https://localhost:8080/"
        },
        "outputId": "df41101e-e76e-4272-882d-de287a465f16"
      },
      "execution_count": null,
      "outputs": [
        {
          "metadata": {
            "tags": null
          },
          "name": "stderr",
          "output_type": "stream",
          "text": [
            "<ipython-input-27-17771f9ccd55>:1: UserWarning: `Model.fit_generator` is deprecated and will be removed in a future version. Please use `Model.fit`, which supports generators.\n",
            "  hist=model.fit_generator(train_data,\n"
          ]
        },
        {
          "metadata": {
            "tags": null
          },
          "name": "stdout",
          "output_type": "stream",
          "text": [
            "Epoch 66/80\n",
            "72/72 [==============================] - ETA: 0s - loss: 0.0752 - accuracy: 0.9852\n",
            "Epoch 66: saving model to /content/drive/MyDrive/saved_models/weights-improvement-00066.ckpt\n"
          ]
        },
        {
          "metadata": {
            "tags": null
          },
          "name": "stderr",
          "output_type": "stream",
          "text": [
            "WARNING:absl:Found untraced functions such as _jit_compiled_convolution_op, _jit_compiled_convolution_op, _jit_compiled_convolution_op, _jit_compiled_convolution_op, _jit_compiled_convolution_op while saving (showing 5 of 200). These functions will not be directly callable after loading.\n"
          ]
        },
        {
          "metadata": {
            "tags": null
          },
          "name": "stdout",
          "output_type": "stream",
          "text": [
            "72/72 [==============================] - 147s 2s/step - loss: 0.0752 - accuracy: 0.9852 - val_loss: 0.2920 - val_accuracy: 0.8941\n",
            "Epoch 67/80\n",
            "72/72 [==============================] - ETA: 0s - loss: 0.0721 - accuracy: 0.9852\n",
            "Epoch 67: saving model to /content/drive/MyDrive/saved_models/weights-improvement-00067.ckpt\n"
          ]
        },
        {
          "metadata": {
            "tags": null
          },
          "name": "stderr",
          "output_type": "stream",
          "text": [
            "WARNING:absl:Found untraced functions such as _jit_compiled_convolution_op, _jit_compiled_convolution_op, _jit_compiled_convolution_op, _jit_compiled_convolution_op, _jit_compiled_convolution_op while saving (showing 5 of 200). These functions will not be directly callable after loading.\n"
          ]
        },
        {
          "metadata": {
            "tags": null
          },
          "name": "stdout",
          "output_type": "stream",
          "text": [
            "72/72 [==============================] - 145s 2s/step - loss: 0.0721 - accuracy: 0.9852 - val_loss: 0.2684 - val_accuracy: 0.9045\n",
            "Epoch 68/80\n",
            "72/72 [==============================] - ETA: 0s - loss: 0.0682 - accuracy: 0.9870\n",
            "Epoch 68: saving model to /content/drive/MyDrive/saved_models/weights-improvement-00068.ckpt\n"
          ]
        },
        {
          "metadata": {
            "tags": null
          },
          "name": "stderr",
          "output_type": "stream",
          "text": [
            "WARNING:absl:Found untraced functions such as _jit_compiled_convolution_op, _jit_compiled_convolution_op, _jit_compiled_convolution_op, _jit_compiled_convolution_op, _jit_compiled_convolution_op while saving (showing 5 of 200). These functions will not be directly callable after loading.\n"
          ]
        },
        {
          "metadata": {
            "tags": null
          },
          "name": "stdout",
          "output_type": "stream",
          "text": [
            "72/72 [==============================] - 148s 2s/step - loss: 0.0682 - accuracy: 0.9870 - val_loss: 0.2950 - val_accuracy: 0.8941\n",
            "Epoch 69/80\n",
            "72/72 [==============================] - ETA: 0s - loss: 0.0693 - accuracy: 0.9857\n",
            "Epoch 69: saving model to /content/drive/MyDrive/saved_models/weights-improvement-00069.ckpt\n"
          ]
        },
        {
          "metadata": {
            "tags": null
          },
          "name": "stderr",
          "output_type": "stream",
          "text": [
            "WARNING:absl:Found untraced functions such as _jit_compiled_convolution_op, _jit_compiled_convolution_op, _jit_compiled_convolution_op, _jit_compiled_convolution_op, _jit_compiled_convolution_op while saving (showing 5 of 200). These functions will not be directly callable after loading.\n"
          ]
        },
        {
          "metadata": {
            "tags": null
          },
          "name": "stdout",
          "output_type": "stream",
          "text": [
            "72/72 [==============================] - 149s 2s/step - loss: 0.0693 - accuracy: 0.9857 - val_loss: 0.2674 - val_accuracy: 0.8958\n",
            "Epoch 70/80\n",
            "72/72 [==============================] - ETA: 0s - loss: 0.0667 - accuracy: 0.9860\n",
            "Epoch 70: saving model to /content/drive/MyDrive/saved_models/weights-improvement-00070.ckpt\n"
          ]
        },
        {
          "metadata": {
            "tags": null
          },
          "name": "stderr",
          "output_type": "stream",
          "text": [
            "WARNING:absl:Found untraced functions such as _jit_compiled_convolution_op, _jit_compiled_convolution_op, _jit_compiled_convolution_op, _jit_compiled_convolution_op, _jit_compiled_convolution_op while saving (showing 5 of 200). These functions will not be directly callable after loading.\n"
          ]
        },
        {
          "metadata": {
            "tags": null
          },
          "name": "stdout",
          "output_type": "stream",
          "text": [
            "72/72 [==============================] - 152s 2s/step - loss: 0.0667 - accuracy: 0.9860 - val_loss: 0.2848 - val_accuracy: 0.9028\n",
            "Epoch 71/80\n",
            "72/72 [==============================] - ETA: 0s - loss: 0.0651 - accuracy: 0.9865\n",
            "Epoch 71: saving model to /content/drive/MyDrive/saved_models/weights-improvement-00071.ckpt\n"
          ]
        },
        {
          "metadata": {
            "tags": null
          },
          "name": "stderr",
          "output_type": "stream",
          "text": [
            "WARNING:absl:Found untraced functions such as _jit_compiled_convolution_op, _jit_compiled_convolution_op, _jit_compiled_convolution_op, _jit_compiled_convolution_op, _jit_compiled_convolution_op while saving (showing 5 of 200). These functions will not be directly callable after loading.\n"
          ]
        },
        {
          "metadata": {
            "tags": null
          },
          "name": "stdout",
          "output_type": "stream",
          "text": [
            "72/72 [==============================] - 152s 2s/step - loss: 0.0651 - accuracy: 0.9865 - val_loss: 0.2640 - val_accuracy: 0.9080\n",
            "Epoch 72/80\n",
            "72/72 [==============================] - ETA: 0s - loss: 0.0613 - accuracy: 0.9883\n",
            "Epoch 72: saving model to /content/drive/MyDrive/saved_models/weights-improvement-00072.ckpt\n"
          ]
        },
        {
          "metadata": {
            "tags": null
          },
          "name": "stderr",
          "output_type": "stream",
          "text": [
            "WARNING:absl:Found untraced functions such as _jit_compiled_convolution_op, _jit_compiled_convolution_op, _jit_compiled_convolution_op, _jit_compiled_convolution_op, _jit_compiled_convolution_op while saving (showing 5 of 200). These functions will not be directly callable after loading.\n"
          ]
        },
        {
          "metadata": {
            "tags": null
          },
          "name": "stdout",
          "output_type": "stream",
          "text": [
            "72/72 [==============================] - 154s 2s/step - loss: 0.0613 - accuracy: 0.9883 - val_loss: 0.2606 - val_accuracy: 0.9132\n",
            "Epoch 73/80\n",
            "72/72 [==============================] - ETA: 0s - loss: 0.0525 - accuracy: 0.9921\n",
            "Epoch 73: saving model to /content/drive/MyDrive/saved_models/weights-improvement-00073.ckpt\n"
          ]
        },
        {
          "metadata": {
            "tags": null
          },
          "name": "stderr",
          "output_type": "stream",
          "text": [
            "WARNING:absl:Found untraced functions such as _jit_compiled_convolution_op, _jit_compiled_convolution_op, _jit_compiled_convolution_op, _jit_compiled_convolution_op, _jit_compiled_convolution_op while saving (showing 5 of 200). These functions will not be directly callable after loading.\n"
          ]
        },
        {
          "metadata": {
            "tags": null
          },
          "name": "stdout",
          "output_type": "stream",
          "text": [
            "72/72 [==============================] - 155s 2s/step - loss: 0.0525 - accuracy: 0.9921 - val_loss: 0.2768 - val_accuracy: 0.9045\n",
            "Epoch 74/80\n",
            "72/72 [==============================] - ETA: 0s - loss: 0.0550 - accuracy: 0.9900\n",
            "Epoch 74: saving model to /content/drive/MyDrive/saved_models/weights-improvement-00074.ckpt\n"
          ]
        },
        {
          "metadata": {
            "tags": null
          },
          "name": "stderr",
          "output_type": "stream",
          "text": [
            "WARNING:absl:Found untraced functions such as _jit_compiled_convolution_op, _jit_compiled_convolution_op, _jit_compiled_convolution_op, _jit_compiled_convolution_op, _jit_compiled_convolution_op while saving (showing 5 of 200). These functions will not be directly callable after loading.\n"
          ]
        },
        {
          "metadata": {
            "tags": null
          },
          "name": "stdout",
          "output_type": "stream",
          "text": [
            "72/72 [==============================] - 154s 2s/step - loss: 0.0550 - accuracy: 0.9900 - val_loss: 0.2756 - val_accuracy: 0.9115\n",
            "Epoch 75/80\n",
            "72/72 [==============================] - ETA: 0s - loss: 0.0564 - accuracy: 0.9905\n",
            "Epoch 75: saving model to /content/drive/MyDrive/saved_models/weights-improvement-00075.ckpt\n"
          ]
        },
        {
          "metadata": {
            "tags": null
          },
          "name": "stderr",
          "output_type": "stream",
          "text": [
            "WARNING:absl:Found untraced functions such as _jit_compiled_convolution_op, _jit_compiled_convolution_op, _jit_compiled_convolution_op, _jit_compiled_convolution_op, _jit_compiled_convolution_op while saving (showing 5 of 200). These functions will not be directly callable after loading.\n"
          ]
        },
        {
          "metadata": {
            "tags": null
          },
          "name": "stdout",
          "output_type": "stream",
          "text": [
            "72/72 [==============================] - 156s 2s/step - loss: 0.0564 - accuracy: 0.9905 - val_loss: 0.2792 - val_accuracy: 0.9132\n",
            "Epoch 76/80\n",
            "72/72 [==============================] - ETA: 0s - loss: 0.0556 - accuracy: 0.9900\n",
            "Epoch 76: saving model to /content/drive/MyDrive/saved_models/weights-improvement-00076.ckpt\n"
          ]
        },
        {
          "metadata": {
            "tags": null
          },
          "name": "stderr",
          "output_type": "stream",
          "text": [
            "WARNING:absl:Found untraced functions such as _jit_compiled_convolution_op, _jit_compiled_convolution_op, _jit_compiled_convolution_op, _jit_compiled_convolution_op, _jit_compiled_convolution_op while saving (showing 5 of 200). These functions will not be directly callable after loading.\n"
          ]
        },
        {
          "output_type": "stream",
          "name": "stdout",
          "text": [
            "72/72 [==============================] - 160s 2s/step - loss: 0.0556 - accuracy: 0.9900 - val_loss: 0.2497 - val_accuracy: 0.9097\n",
            "Epoch 77/80\n",
            "72/72 [==============================] - ETA: 0s - loss: 0.0559 - accuracy: 0.9909\n",
            "Epoch 77: saving model to /content/drive/MyDrive/saved_models/weights-improvement-00077.ckpt\n"
          ]
        },
        {
          "output_type": "stream",
          "name": "stderr",
          "text": [
            "WARNING:absl:Found untraced functions such as _jit_compiled_convolution_op, _jit_compiled_convolution_op, _jit_compiled_convolution_op, _jit_compiled_convolution_op, _jit_compiled_convolution_op while saving (showing 5 of 200). These functions will not be directly callable after loading.\n"
          ]
        },
        {
          "output_type": "stream",
          "name": "stdout",
          "text": [
            "\b\b\b\b\b\b\b\b\b\b\b\b\b\b\b\b\b\b\b\b\b\b\b\b\b\b\b\b\b\b\b\b\b\b\b\b\b\b\b\b\b\b\b\b\b\b\b\b\b\b\b\b\b\b\b\b\b\b\b\b\b\b\b\b\b\b\b\b\b\b\b\b\b\b\b\b\b\b\b\b\b\b\r72/72 [==============================] - 162s 2s/step - loss: 0.0559 - accuracy: 0.9909 - val_loss: 0.2398 - val_accuracy: 0.9253\n",
            "Epoch 78/80\n",
            "72/72 [==============================] - ETA: 0s - loss: 0.0538 - accuracy: 0.9904\n",
            "Epoch 78: saving model to /content/drive/MyDrive/saved_models/weights-improvement-00078.ckpt\n"
          ]
        },
        {
          "output_type": "stream",
          "name": "stderr",
          "text": [
            "WARNING:absl:Found untraced functions such as _jit_compiled_convolution_op, _jit_compiled_convolution_op, _jit_compiled_convolution_op, _jit_compiled_convolution_op, _jit_compiled_convolution_op while saving (showing 5 of 200). These functions will not be directly callable after loading.\n"
          ]
        },
        {
          "output_type": "stream",
          "name": "stdout",
          "text": [
            "\b\b\b\b\b\b\b\b\b\b\b\b\b\b\b\b\b\b\b\b\b\b\b\b\b\b\b\b\b\b\b\b\b\b\b\b\b\b\b\b\b\b\b\b\b\b\b\b\b\b\b\b\b\b\b\b\b\b\b\b\b\b\b\b\b\b\b\b\b\b\b\b\b\b\b\b\b\b\b\b\b\b\r72/72 [==============================] - 155s 2s/step - loss: 0.0538 - accuracy: 0.9904 - val_loss: 0.2417 - val_accuracy: 0.9167\n",
            "Epoch 79/80\n",
            "72/72 [==============================] - ETA: 0s - loss: 0.0472 - accuracy: 0.9926\n",
            "Epoch 79: saving model to /content/drive/MyDrive/saved_models/weights-improvement-00079.ckpt\n"
          ]
        },
        {
          "output_type": "stream",
          "name": "stderr",
          "text": [
            "WARNING:absl:Found untraced functions such as _jit_compiled_convolution_op, _jit_compiled_convolution_op, _jit_compiled_convolution_op, _jit_compiled_convolution_op, _jit_compiled_convolution_op while saving (showing 5 of 200). These functions will not be directly callable after loading.\n"
          ]
        },
        {
          "output_type": "stream",
          "name": "stdout",
          "text": [
            "\b\b\b\b\b\b\b\b\b\b\b\b\b\b\b\b\b\b\b\b\b\b\b\b\b\b\b\b\b\b\b\b\b\b\b\b\b\b\b\b\b\b\b\b\b\b\b\b\b\b\b\b\b\b\b\b\b\b\b\b\b\b\b\b\b\b\b\b\b\b\b\b\b\b\b\b\b\b\b\b\b\b\r72/72 [==============================] - 160s 2s/step - loss: 0.0472 - accuracy: 0.9926 - val_loss: 0.2820 - val_accuracy: 0.9080\n",
            "Epoch 80/80\n",
            "72/72 [==============================] - ETA: 0s - loss: 0.0511 - accuracy: 0.9891\n",
            "Epoch 80: saving model to /content/drive/MyDrive/saved_models/weights-improvement-00080.ckpt\n"
          ]
        },
        {
          "output_type": "stream",
          "name": "stderr",
          "text": [
            "WARNING:absl:Found untraced functions such as _jit_compiled_convolution_op, _jit_compiled_convolution_op, _jit_compiled_convolution_op, _jit_compiled_convolution_op, _jit_compiled_convolution_op while saving (showing 5 of 200). These functions will not be directly callable after loading.\n"
          ]
        },
        {
          "output_type": "stream",
          "name": "stdout",
          "text": [
            "\b\b\b\b\b\b\b\b\b\b\b\b\b\b\b\b\b\b\b\b\b\b\b\b\b\b\b\b\b\b\b\b\b\b\b\b\b\b\b\b\b\b\b\b\b\b\b\b\b\b\b\b\b\b\b\b\b\b\b\b\b\b\b\b\b\b\b\b\b\b\b\b\b\b\b\b\b\b\b\b\b\b\r72/72 [==============================] - 157s 2s/step - loss: 0.0511 - accuracy: 0.9891 - val_loss: 0.2396 - val_accuracy: 0.9201\n"
          ]
        }
      ]
    },
    {
      "cell_type": "code",
      "source": [
        "model.load_weights(\"/content/drive/MyDrive/saved_models/weights-improvement-00080.ckpt\")"
      ],
      "metadata": {
        "colab": {
          "base_uri": "https://localhost:8080/"
        },
        "id": "a9jJI5pYBJfG",
        "outputId": "9720cba7-1a4e-42b9-8d6d-6df3449dcda5"
      },
      "execution_count": null,
      "outputs": [
        {
          "output_type": "execute_result",
          "data": {
            "text/plain": [
              "<tensorflow.python.training.tracking.util.CheckpointLoadStatus at 0x7f4d64583460>"
            ]
          },
          "metadata": {},
          "execution_count": 30
        }
      ]
    },
    {
      "cell_type": "code",
      "source": [
        "hist=model.fit_generator(train_data,\n",
        "                         steps_per_epoch=3600//batch_size,\n",
        "                         epochs=100,\n",
        "                         initial_epoch=80,\n",
        "                         validation_data= test_data,\n",
        "                         validation_steps = 900//batch_size,\n",
        "                         callbacks=callbacks_list)"
      ],
      "metadata": {
        "id": "xZRqd8rwJKzR"
      },
      "execution_count": null,
      "outputs": []
    },
    {
      "cell_type": "code",
      "source": [
        "model.load_weights(\"/content/drive/MyDrive/saved_models/weights-improvement-00099.ckpt\")"
      ],
      "metadata": {
        "colab": {
          "base_uri": "https://localhost:8080/"
        },
        "id": "bG4fiaEuMjIC",
        "outputId": "b93f338e-5df0-492b-b2ee-357dd3e4f0ba"
      },
      "execution_count": null,
      "outputs": [
        {
          "output_type": "execute_result",
          "data": {
            "text/plain": [
              "<tensorflow.python.training.tracking.util.CheckpointLoadStatus at 0x7f4d60a55f70>"
            ]
          },
          "metadata": {},
          "execution_count": 33
        }
      ]
    },
    {
      "cell_type": "code",
      "source": [
        "##hist=model.fit_generator(train_data,\n",
        "  ##                       steps_per_epoch=3600//batch_size,\n",
        "    ##                     epochs=100,\n",
        "      ##                   initial_epoch=99,\n",
        "        ##                 validation_data= test_data,\n",
        "          ##               validation_steps = 900//batch_size,\n",
        "           ##              callbacks=callbacks_list)"
      ],
      "metadata": {
        "colab": {
          "base_uri": "https://localhost:8080/"
        },
        "id": "V-UVRaFkNIUJ",
        "outputId": "1ff90e83-9350-4f7a-c980-791b7530b227"
      },
      "execution_count": null,
      "outputs": [
        {
          "metadata": {
            "tags": null
          },
          "name": "stderr",
          "output_type": "stream",
          "text": [
            "<ipython-input-34-fb72b6c087c8>:1: UserWarning: `Model.fit_generator` is deprecated and will be removed in a future version. Please use `Model.fit`, which supports generators.\n",
            "  hist=model.fit_generator(train_data,\n"
          ]
        },
        {
          "output_type": "stream",
          "name": "stdout",
          "text": [
            "Epoch 100/100\n",
            "72/72 [==============================] - ETA: 0s - loss: 0.0245 - accuracy: 0.9957\n",
            "Epoch 100: saving model to /content/drive/MyDrive/saved_models/weights-improvement-00100.ckpt\n"
          ]
        },
        {
          "output_type": "stream",
          "name": "stderr",
          "text": [
            "WARNING:absl:Found untraced functions such as _jit_compiled_convolution_op, _jit_compiled_convolution_op, _jit_compiled_convolution_op, _jit_compiled_convolution_op, _jit_compiled_convolution_op while saving (showing 5 of 200). These functions will not be directly callable after loading.\n"
          ]
        },
        {
          "output_type": "stream",
          "name": "stdout",
          "text": [
            "\b\b\b\b\b\b\b\b\b\b\b\b\b\b\b\b\b\b\b\b\b\b\b\b\b\b\b\b\b\b\b\b\b\b\b\b\b\b\b\b\b\b\b\b\b\b\b\b\b\b\b\b\b\b\b\b\b\b\b\b\b\b\b\b\b\b\b\b\b\b\b\b\b\b\b\b\b\b\b\b\b\b\r72/72 [==============================] - 147s 2s/step - loss: 0.0245 - accuracy: 0.9957 - val_loss: 0.2147 - val_accuracy: 0.9201\n"
          ]
        }
      ]
    },
    {
      "cell_type": "code",
      "source": [
        "model.save_weights(\"BaklagilFold1RMSProplr0.0001Dens\")"
      ],
      "metadata": {
        "id": "gJ3U7L3BJf6U"
      },
      "execution_count": null,
      "outputs": []
    }
  ]
}